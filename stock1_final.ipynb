{
  "nbformat": 4,
  "nbformat_minor": 0,
  "metadata": {
    "colab": {
      "provenance": [],
      "collapsed_sections": []
    },
    "kernelspec": {
      "name": "python3",
      "display_name": "Python 3"
    },
    "language_info": {
      "name": "python"
    }
  },
  "cells": [
    {
      "cell_type": "code",
      "execution_count": null,
      "metadata": {
        "id": "4lQ5pgCi4BoN",
        "colab": {
          "base_uri": "https://localhost:8080/"
        },
        "outputId": "4c20f005-dab7-4d3b-8ea5-1e9d4544cfec"
      },
      "outputs": [
        {
          "output_type": "stream",
          "name": "stdout",
          "text": [
            "Looking in indexes: https://pypi.org/simple, https://us-python.pkg.dev/colab-wheels/public/simple/\n",
            "Collecting yfinance\n",
            "  Downloading yfinance-0.1.74-py2.py3-none-any.whl (27 kB)\n",
            "Requirement already satisfied: numpy>=1.15 in /usr/local/lib/python3.7/dist-packages (from yfinance) (1.21.6)\n",
            "Requirement already satisfied: pandas>=0.24.0 in /usr/local/lib/python3.7/dist-packages (from yfinance) (1.3.5)\n",
            "Requirement already satisfied: lxml>=4.5.1 in /usr/local/lib/python3.7/dist-packages (from yfinance) (4.9.1)\n",
            "Collecting requests>=2.26\n",
            "  Downloading requests-2.28.1-py3-none-any.whl (62 kB)\n",
            "\u001b[K     |████████████████████████████████| 62 kB 1.7 MB/s \n",
            "\u001b[?25hRequirement already satisfied: multitasking>=0.0.7 in /usr/local/lib/python3.7/dist-packages (from yfinance) (0.0.11)\n",
            "Requirement already satisfied: python-dateutil>=2.7.3 in /usr/local/lib/python3.7/dist-packages (from pandas>=0.24.0->yfinance) (2.8.2)\n",
            "Requirement already satisfied: pytz>=2017.3 in /usr/local/lib/python3.7/dist-packages (from pandas>=0.24.0->yfinance) (2022.1)\n",
            "Requirement already satisfied: six>=1.5 in /usr/local/lib/python3.7/dist-packages (from python-dateutil>=2.7.3->pandas>=0.24.0->yfinance) (1.15.0)\n",
            "Requirement already satisfied: idna<4,>=2.5 in /usr/local/lib/python3.7/dist-packages (from requests>=2.26->yfinance) (2.10)\n",
            "Requirement already satisfied: urllib3<1.27,>=1.21.1 in /usr/local/lib/python3.7/dist-packages (from requests>=2.26->yfinance) (1.24.3)\n",
            "Requirement already satisfied: charset-normalizer<3,>=2 in /usr/local/lib/python3.7/dist-packages (from requests>=2.26->yfinance) (2.1.0)\n",
            "Requirement already satisfied: certifi>=2017.4.17 in /usr/local/lib/python3.7/dist-packages (from requests>=2.26->yfinance) (2022.6.15)\n",
            "Installing collected packages: requests, yfinance\n",
            "  Attempting uninstall: requests\n",
            "    Found existing installation: requests 2.23.0\n",
            "    Uninstalling requests-2.23.0:\n",
            "      Successfully uninstalled requests-2.23.0\n",
            "Successfully installed requests-2.28.1 yfinance-0.1.74\n"
          ]
        }
      ],
      "source": [
        "!pip install yfinance"
      ]
    },
    {
      "cell_type": "code",
      "source": [
        "import pandas as pd\n",
        "import numpy as np\n",
        "import math \n",
        "import seaborn as sns \n",
        "import matplotlib.pyplot as plt\n",
        "from sklearn import metrics\n",
        "from sklearn.model_selection import train_test_split\n",
        "import yfinance as yf \n",
        "%matplotlib inline\n",
        "plt.style.use('fivethirtyeight')"
      ],
      "metadata": {
        "id": "5074exCM4de9"
      },
      "execution_count": null,
      "outputs": []
    },
    {
      "cell_type": "code",
      "source": [
        "nio = yf.Ticker('NIO')\n",
        "nio.info"
      ],
      "metadata": {
        "id": "FnoGDBN44xqh",
        "colab": {
          "base_uri": "https://localhost:8080/"
        },
        "outputId": "30108d7d-326e-422f-db48-824cdd6cd0e9"
      },
      "execution_count": null,
      "outputs": [
        {
          "output_type": "execute_result",
          "data": {
            "text/plain": [
              "{'52WeekChange': -0.53771293,\n",
              " 'SandP52WeekChange': -0.06478733,\n",
              " 'address1': 'Building 20',\n",
              " 'address2': 'No. 56 AnTuo Road Anting Town Jiading District',\n",
              " 'algorithm': None,\n",
              " 'annualHoldingsTurnover': None,\n",
              " 'annualReportExpenseRatio': None,\n",
              " 'ask': 20.13,\n",
              " 'askSize': 2900,\n",
              " 'averageDailyVolume10Day': 40175740,\n",
              " 'averageVolume': 62617640,\n",
              " 'averageVolume10days': 40175740,\n",
              " 'beta': 1.970026,\n",
              " 'beta3Year': None,\n",
              " 'bid': 20.11,\n",
              " 'bidSize': 3100,\n",
              " 'bookValue': 20.889,\n",
              " 'category': None,\n",
              " 'circulatingSupply': None,\n",
              " 'city': 'Shanghai',\n",
              " 'coinMarketCapLink': None,\n",
              " 'companyOfficers': [],\n",
              " 'country': 'China',\n",
              " 'currency': 'USD',\n",
              " 'currentPrice': 20.22,\n",
              " 'currentRatio': 2.015,\n",
              " 'dateShortInterest': 1657843200,\n",
              " 'dayHigh': 20.68,\n",
              " 'dayLow': 19.88,\n",
              " 'debtToEquity': 58.929,\n",
              " 'dividendRate': None,\n",
              " 'dividendYield': None,\n",
              " 'earningsGrowth': None,\n",
              " 'earningsQuarterlyGrowth': None,\n",
              " 'ebitda': -4515644416,\n",
              " 'ebitdaMargins': -0.11863,\n",
              " 'enterpriseToEbitda': -2.256,\n",
              " 'enterpriseToRevenue': 0.268,\n",
              " 'enterpriseValue': 10187205632,\n",
              " 'exDividendDate': None,\n",
              " 'exchange': 'NYQ',\n",
              " 'exchangeTimezoneName': 'America/New_York',\n",
              " 'exchangeTimezoneShortName': 'EDT',\n",
              " 'expireDate': None,\n",
              " 'fiftyDayAverage': 19.99,\n",
              " 'fiftyTwoWeekHigh': 46.38,\n",
              " 'fiftyTwoWeekLow': 11.67,\n",
              " 'financialCurrency': 'CNY',\n",
              " 'fiveYearAverageReturn': None,\n",
              " 'fiveYearAvgDividendYield': None,\n",
              " 'floatShares': 1299177854,\n",
              " 'forwardEps': -0.16,\n",
              " 'forwardPE': -126.375,\n",
              " 'freeCashflow': None,\n",
              " 'fromCurrency': None,\n",
              " 'fullTimeEmployees': 15204,\n",
              " 'fundFamily': None,\n",
              " 'fundInceptionDate': None,\n",
              " 'gmtOffSetMilliseconds': '-14400000',\n",
              " 'grossMargins': 0.17637,\n",
              " 'grossProfits': 6821433000,\n",
              " 'heldPercentInsiders': 0.00465,\n",
              " 'heldPercentInstitutions': 0.37811002,\n",
              " 'impliedSharesOutstanding': 0,\n",
              " 'industry': 'Auto Manufacturers',\n",
              " 'isEsgPopulated': False,\n",
              " 'lastCapGain': None,\n",
              " 'lastDividendDate': None,\n",
              " 'lastDividendValue': None,\n",
              " 'lastFiscalYearEnd': 1640908800,\n",
              " 'lastMarket': None,\n",
              " 'lastSplitDate': None,\n",
              " 'lastSplitFactor': None,\n",
              " 'legalType': None,\n",
              " 'logo_url': 'https://logo.clearbit.com/nio.com',\n",
              " 'longBusinessSummary': 'NIO Inc. designs, develops, manufactures, and sells smart electric vehicles in China. It offers five, six, and seven-seater electric SUVs, as well as smart electric sedans. The company is also involved in the provision of energy and service packages to its users; design and technology development activities; manufacture of e-powertrains, battery packs, and components; and sales and after sales management activities. In addition, it offers power solutions, including Power Home, a home charging solution; Power Swap, a battery swapping service; Power Charger, a fast-charging solution; Power Mobile, a mobile charging service through charging vans; Power Map, an application that provides access to a network of public chargers and their real-time information; and One Click for Power valet service, where it offers vehicle pick up, charging, and swapping services. Further, the company provides repair, maintenance, and bodywork services through its NIO service centers and authorized third-party service centers; statutory and third-party liability insurance, and vehicle damage insurance through third-party insurers; courtesy vehicle services; roadside assistance; data packages; and auto financing and financial leasing services. Additionally, it offers NIO Certified, a used vehicle inspection, evaluation, acquisition, and sales service. The company was formerly known as NextEV Inc. and changed its name to NIO Inc. in July 2017. NIO Inc. was incorporated in 2014 and is headquartered in Shanghai, China.',\n",
              " 'longName': 'NIO Inc.',\n",
              " 'market': 'us_market',\n",
              " 'marketCap': 33778116608,\n",
              " 'maxAge': 1,\n",
              " 'maxSupply': None,\n",
              " 'messageBoardId': 'finmb_311626862',\n",
              " 'morningStarOverallRating': None,\n",
              " 'morningStarRiskRating': None,\n",
              " 'mostRecentQuarter': 1648684800,\n",
              " 'navPrice': None,\n",
              " 'netIncomeToCommon': -7522386944,\n",
              " 'nextFiscalYearEnd': 1703980800,\n",
              " 'numberOfAnalystOpinions': 25,\n",
              " 'open': 20.53,\n",
              " 'openInterest': None,\n",
              " 'operatingCashflow': None,\n",
              " 'operatingMargins': -0.16785,\n",
              " 'payoutRatio': 0,\n",
              " 'pegRatio': 1522.47,\n",
              " 'phone': '86 21 6908 2018',\n",
              " 'preMarketPrice': None,\n",
              " 'previousClose': 20.9,\n",
              " 'priceHint': 2,\n",
              " 'priceToBook': 0.96797353,\n",
              " 'priceToSalesTrailing12Months': 0.88738745,\n",
              " 'profitMargins': -0.19761999,\n",
              " 'quickRatio': 1.711,\n",
              " 'quoteType': 'EQUITY',\n",
              " 'recommendationKey': 'buy',\n",
              " 'recommendationMean': 1.8,\n",
              " 'regularMarketDayHigh': 20.68,\n",
              " 'regularMarketDayLow': 19.88,\n",
              " 'regularMarketOpen': 20.53,\n",
              " 'regularMarketPreviousClose': 20.9,\n",
              " 'regularMarketPrice': 20.22,\n",
              " 'regularMarketVolume': 33637187,\n",
              " 'returnOnAssets': -0.053850003,\n",
              " 'returnOnEquity': -0.22312,\n",
              " 'revenueGrowth': 0.242,\n",
              " 'revenuePerShare': 23.926,\n",
              " 'revenueQuarterlyGrowth': None,\n",
              " 'sector': 'Consumer Cyclical',\n",
              " 'sharesOutstanding': 1670530048,\n",
              " 'sharesPercentSharesOut': 0.0359,\n",
              " 'sharesShort': 60033859,\n",
              " 'sharesShortPreviousMonthDate': 1655251200,\n",
              " 'sharesShortPriorMonth': 67086000,\n",
              " 'shortName': 'NIO Inc.',\n",
              " 'shortPercentOfFloat': None,\n",
              " 'shortRatio': 0.91,\n",
              " 'startDate': None,\n",
              " 'strikePrice': None,\n",
              " 'symbol': 'NIO',\n",
              " 'targetHighPrice': 66.65,\n",
              " 'targetLowPrice': 25.67,\n",
              " 'targetMeanPrice': 36.04,\n",
              " 'targetMedianPrice': 31.83,\n",
              " 'threeYearAverageReturn': None,\n",
              " 'toCurrency': None,\n",
              " 'totalAssets': None,\n",
              " 'totalCash': 49407582208,\n",
              " 'totalCashPerShare': 30.408,\n",
              " 'totalDebt': 22090344448,\n",
              " 'totalRevenue': 38064676864,\n",
              " 'tradeable': False,\n",
              " 'trailingAnnualDividendRate': 0,\n",
              " 'trailingAnnualDividendYield': 0,\n",
              " 'trailingEps': -0.705,\n",
              " 'twoHundredDayAverage': 25.07085,\n",
              " 'volume': 33637187,\n",
              " 'volume24Hr': None,\n",
              " 'volumeAllCurrencies': None,\n",
              " 'website': 'https://www.nio.com',\n",
              " 'yield': None,\n",
              " 'ytdReturn': None,\n",
              " 'zip': '201804'}"
            ]
          },
          "metadata": {},
          "execution_count": 3
        }
      ]
    },
    {
      "cell_type": "code",
      "source": [
        "history = nio.history(period=\"Max\")\n",
        "df = pd.DataFrame(history)\n",
        "df.head(10)"
      ],
      "metadata": {
        "colab": {
          "base_uri": "https://localhost:8080/",
          "height": 394
        },
        "id": "A0ER2pet4-tg",
        "outputId": "c12621b3-d684-4203-c9ed-5f43614d494f"
      },
      "execution_count": null,
      "outputs": [
        {
          "output_type": "execute_result",
          "data": {
            "text/plain": [
              "             Open   High   Low  Close     Volume  Dividends  Stock Splits\n",
              "Date                                                                     \n",
              "2018-09-12   6.00   6.93  5.35   6.60   66849000          0             0\n",
              "2018-09-13   6.62  12.69  6.52  11.60  158346500          0             0\n",
              "2018-09-14  12.66  13.80  9.22   9.90  172473600          0             0\n",
              "2018-09-17   9.61   9.75  8.50   8.50   56323900          0             0\n",
              "2018-09-18   8.73   9.10  7.67   7.68   41827600          0             0\n",
              "2018-09-19   7.88   9.15  7.54   8.50   48306500          0             0\n",
              "2018-09-20   9.07   9.47  8.42   8.78   40275000          0             0\n",
              "2018-09-21   9.05   9.07  8.50   8.59   15118500          0             0\n",
              "2018-09-24   8.32   8.39  7.85   7.87   16297900          0             0\n",
              "2018-09-25   8.06   8.19  7.50   7.58   18909300          0             0"
            ],
            "text/html": [
              "\n",
              "  <div id=\"df-df81e446-6bad-4f28-9573-3e2b73c4347d\">\n",
              "    <div class=\"colab-df-container\">\n",
              "      <div>\n",
              "<style scoped>\n",
              "    .dataframe tbody tr th:only-of-type {\n",
              "        vertical-align: middle;\n",
              "    }\n",
              "\n",
              "    .dataframe tbody tr th {\n",
              "        vertical-align: top;\n",
              "    }\n",
              "\n",
              "    .dataframe thead th {\n",
              "        text-align: right;\n",
              "    }\n",
              "</style>\n",
              "<table border=\"1\" class=\"dataframe\">\n",
              "  <thead>\n",
              "    <tr style=\"text-align: right;\">\n",
              "      <th></th>\n",
              "      <th>Open</th>\n",
              "      <th>High</th>\n",
              "      <th>Low</th>\n",
              "      <th>Close</th>\n",
              "      <th>Volume</th>\n",
              "      <th>Dividends</th>\n",
              "      <th>Stock Splits</th>\n",
              "    </tr>\n",
              "    <tr>\n",
              "      <th>Date</th>\n",
              "      <th></th>\n",
              "      <th></th>\n",
              "      <th></th>\n",
              "      <th></th>\n",
              "      <th></th>\n",
              "      <th></th>\n",
              "      <th></th>\n",
              "    </tr>\n",
              "  </thead>\n",
              "  <tbody>\n",
              "    <tr>\n",
              "      <th>2018-09-12</th>\n",
              "      <td>6.00</td>\n",
              "      <td>6.93</td>\n",
              "      <td>5.35</td>\n",
              "      <td>6.60</td>\n",
              "      <td>66849000</td>\n",
              "      <td>0</td>\n",
              "      <td>0</td>\n",
              "    </tr>\n",
              "    <tr>\n",
              "      <th>2018-09-13</th>\n",
              "      <td>6.62</td>\n",
              "      <td>12.69</td>\n",
              "      <td>6.52</td>\n",
              "      <td>11.60</td>\n",
              "      <td>158346500</td>\n",
              "      <td>0</td>\n",
              "      <td>0</td>\n",
              "    </tr>\n",
              "    <tr>\n",
              "      <th>2018-09-14</th>\n",
              "      <td>12.66</td>\n",
              "      <td>13.80</td>\n",
              "      <td>9.22</td>\n",
              "      <td>9.90</td>\n",
              "      <td>172473600</td>\n",
              "      <td>0</td>\n",
              "      <td>0</td>\n",
              "    </tr>\n",
              "    <tr>\n",
              "      <th>2018-09-17</th>\n",
              "      <td>9.61</td>\n",
              "      <td>9.75</td>\n",
              "      <td>8.50</td>\n",
              "      <td>8.50</td>\n",
              "      <td>56323900</td>\n",
              "      <td>0</td>\n",
              "      <td>0</td>\n",
              "    </tr>\n",
              "    <tr>\n",
              "      <th>2018-09-18</th>\n",
              "      <td>8.73</td>\n",
              "      <td>9.10</td>\n",
              "      <td>7.67</td>\n",
              "      <td>7.68</td>\n",
              "      <td>41827600</td>\n",
              "      <td>0</td>\n",
              "      <td>0</td>\n",
              "    </tr>\n",
              "    <tr>\n",
              "      <th>2018-09-19</th>\n",
              "      <td>7.88</td>\n",
              "      <td>9.15</td>\n",
              "      <td>7.54</td>\n",
              "      <td>8.50</td>\n",
              "      <td>48306500</td>\n",
              "      <td>0</td>\n",
              "      <td>0</td>\n",
              "    </tr>\n",
              "    <tr>\n",
              "      <th>2018-09-20</th>\n",
              "      <td>9.07</td>\n",
              "      <td>9.47</td>\n",
              "      <td>8.42</td>\n",
              "      <td>8.78</td>\n",
              "      <td>40275000</td>\n",
              "      <td>0</td>\n",
              "      <td>0</td>\n",
              "    </tr>\n",
              "    <tr>\n",
              "      <th>2018-09-21</th>\n",
              "      <td>9.05</td>\n",
              "      <td>9.07</td>\n",
              "      <td>8.50</td>\n",
              "      <td>8.59</td>\n",
              "      <td>15118500</td>\n",
              "      <td>0</td>\n",
              "      <td>0</td>\n",
              "    </tr>\n",
              "    <tr>\n",
              "      <th>2018-09-24</th>\n",
              "      <td>8.32</td>\n",
              "      <td>8.39</td>\n",
              "      <td>7.85</td>\n",
              "      <td>7.87</td>\n",
              "      <td>16297900</td>\n",
              "      <td>0</td>\n",
              "      <td>0</td>\n",
              "    </tr>\n",
              "    <tr>\n",
              "      <th>2018-09-25</th>\n",
              "      <td>8.06</td>\n",
              "      <td>8.19</td>\n",
              "      <td>7.50</td>\n",
              "      <td>7.58</td>\n",
              "      <td>18909300</td>\n",
              "      <td>0</td>\n",
              "      <td>0</td>\n",
              "    </tr>\n",
              "  </tbody>\n",
              "</table>\n",
              "</div>\n",
              "      <button class=\"colab-df-convert\" onclick=\"convertToInteractive('df-df81e446-6bad-4f28-9573-3e2b73c4347d')\"\n",
              "              title=\"Convert this dataframe to an interactive table.\"\n",
              "              style=\"display:none;\">\n",
              "        \n",
              "  <svg xmlns=\"http://www.w3.org/2000/svg\" height=\"24px\"viewBox=\"0 0 24 24\"\n",
              "       width=\"24px\">\n",
              "    <path d=\"M0 0h24v24H0V0z\" fill=\"none\"/>\n",
              "    <path d=\"M18.56 5.44l.94 2.06.94-2.06 2.06-.94-2.06-.94-.94-2.06-.94 2.06-2.06.94zm-11 1L8.5 8.5l.94-2.06 2.06-.94-2.06-.94L8.5 2.5l-.94 2.06-2.06.94zm10 10l.94 2.06.94-2.06 2.06-.94-2.06-.94-.94-2.06-.94 2.06-2.06.94z\"/><path d=\"M17.41 7.96l-1.37-1.37c-.4-.4-.92-.59-1.43-.59-.52 0-1.04.2-1.43.59L10.3 9.45l-7.72 7.72c-.78.78-.78 2.05 0 2.83L4 21.41c.39.39.9.59 1.41.59.51 0 1.02-.2 1.41-.59l7.78-7.78 2.81-2.81c.8-.78.8-2.07 0-2.86zM5.41 20L4 18.59l7.72-7.72 1.47 1.35L5.41 20z\"/>\n",
              "  </svg>\n",
              "      </button>\n",
              "      \n",
              "  <style>\n",
              "    .colab-df-container {\n",
              "      display:flex;\n",
              "      flex-wrap:wrap;\n",
              "      gap: 12px;\n",
              "    }\n",
              "\n",
              "    .colab-df-convert {\n",
              "      background-color: #E8F0FE;\n",
              "      border: none;\n",
              "      border-radius: 50%;\n",
              "      cursor: pointer;\n",
              "      display: none;\n",
              "      fill: #1967D2;\n",
              "      height: 32px;\n",
              "      padding: 0 0 0 0;\n",
              "      width: 32px;\n",
              "    }\n",
              "\n",
              "    .colab-df-convert:hover {\n",
              "      background-color: #E2EBFA;\n",
              "      box-shadow: 0px 1px 2px rgba(60, 64, 67, 0.3), 0px 1px 3px 1px rgba(60, 64, 67, 0.15);\n",
              "      fill: #174EA6;\n",
              "    }\n",
              "\n",
              "    [theme=dark] .colab-df-convert {\n",
              "      background-color: #3B4455;\n",
              "      fill: #D2E3FC;\n",
              "    }\n",
              "\n",
              "    [theme=dark] .colab-df-convert:hover {\n",
              "      background-color: #434B5C;\n",
              "      box-shadow: 0px 1px 3px 1px rgba(0, 0, 0, 0.15);\n",
              "      filter: drop-shadow(0px 1px 2px rgba(0, 0, 0, 0.3));\n",
              "      fill: #FFFFFF;\n",
              "    }\n",
              "  </style>\n",
              "\n",
              "      <script>\n",
              "        const buttonEl =\n",
              "          document.querySelector('#df-df81e446-6bad-4f28-9573-3e2b73c4347d button.colab-df-convert');\n",
              "        buttonEl.style.display =\n",
              "          google.colab.kernel.accessAllowed ? 'block' : 'none';\n",
              "\n",
              "        async function convertToInteractive(key) {\n",
              "          const element = document.querySelector('#df-df81e446-6bad-4f28-9573-3e2b73c4347d');\n",
              "          const dataTable =\n",
              "            await google.colab.kernel.invokeFunction('convertToInteractive',\n",
              "                                                     [key], {});\n",
              "          if (!dataTable) return;\n",
              "\n",
              "          const docLinkHtml = 'Like what you see? Visit the ' +\n",
              "            '<a target=\"_blank\" href=https://colab.research.google.com/notebooks/data_table.ipynb>data table notebook</a>'\n",
              "            + ' to learn more about interactive tables.';\n",
              "          element.innerHTML = '';\n",
              "          dataTable['output_type'] = 'display_data';\n",
              "          await google.colab.output.renderOutput(dataTable, element);\n",
              "          const docLink = document.createElement('div');\n",
              "          docLink.innerHTML = docLinkHtml;\n",
              "          element.appendChild(docLink);\n",
              "        }\n",
              "      </script>\n",
              "    </div>\n",
              "  </div>\n",
              "  "
            ]
          },
          "metadata": {},
          "execution_count": 4
        }
      ]
    },
    {
      "cell_type": "code",
      "source": [
        "df.shape"
      ],
      "metadata": {
        "colab": {
          "base_uri": "https://localhost:8080/"
        },
        "id": "9I2cIKCFqMOR",
        "outputId": "11c6d81d-1157-48c0-9e0c-90193c397038"
      },
      "execution_count": null,
      "outputs": [
        {
          "output_type": "execute_result",
          "data": {
            "text/plain": [
              "(982, 7)"
            ]
          },
          "metadata": {},
          "execution_count": 5
        }
      ]
    },
    {
      "cell_type": "code",
      "source": [
        "x = df.index\n",
        "y = df['Close']\n",
        "y"
      ],
      "metadata": {
        "colab": {
          "base_uri": "https://localhost:8080/"
        },
        "id": "OHHGOS565IlM",
        "outputId": "1e84d3b0-4141-4625-ae45-128853a55eb4"
      },
      "execution_count": null,
      "outputs": [
        {
          "output_type": "execute_result",
          "data": {
            "text/plain": [
              "Date\n",
              "2018-09-12     6.600000\n",
              "2018-09-13    11.600000\n",
              "2018-09-14     9.900000\n",
              "2018-09-17     8.500000\n",
              "2018-09-18     7.680000\n",
              "                ...    \n",
              "2022-08-01    20.180000\n",
              "2022-08-02    20.180000\n",
              "2022-08-03    20.299999\n",
              "2022-08-04    20.900000\n",
              "2022-08-05    20.219999\n",
              "Name: Close, Length: 982, dtype: float64"
            ]
          },
          "metadata": {},
          "execution_count": 6
        }
      ]
    },
    {
      "cell_type": "code",
      "source": [
        "def df_plot(data, x, y, title=\"\", xlabel='Date', ylabel='Value', dpi=100):\n",
        "    plt.figure(figsize=(16,5), dpi=dpi)\n",
        "    plt.plot(x, y, color='tab:red')\n",
        "    plt.gca().set(title=title, xlabel=xlabel, ylabel=ylabel)\n",
        "    plt.show()"
      ],
      "metadata": {
        "id": "0X9iTBUy5OS-"
      },
      "execution_count": null,
      "outputs": []
    },
    {
      "cell_type": "code",
      "source": [
        "stock_name= \"yahoo NIO dataset\"\n",
        "title = (stock_name,\"The rate of stock performance till date\")\n",
        "df_plot(df , x , y , title=title,xlabel='Date', ylabel='Value',dpi=100)"
      ],
      "metadata": {
        "colab": {
          "base_uri": "https://localhost:8080/",
          "height": 505
        },
        "id": "QJtXLtRf5Tba",
        "outputId": "2f862370-d64f-4140-8bf7-9071779ce852"
      },
      "execution_count": null,
      "outputs": [
        {
          "output_type": "display_data",
          "data": {
            "text/plain": [
              "<Figure size 1600x500 with 1 Axes>"
            ],
            "image/png": "[encoded data removed]"
          },
          "metadata": {}
        }
      ]
    },
    {
      "cell_type": "markdown",
      "source": [
        "# **Multiple Regression**"
      ],
      "metadata": {
        "id": "p9YU5RZcRkFH"
      }
    },
    {
      "cell_type": "code",
      "source": [
        "df.reset_index(inplace=True)"
      ],
      "metadata": {
        "id": "bNqBbCE15kbW"
      },
      "execution_count": null,
      "outputs": []
    },
    {
      "cell_type": "code",
      "source": [
        "df.head(10)"
      ],
      "metadata": {
        "colab": {
          "base_uri": "https://localhost:8080/",
          "height": 363
        },
        "id": "hZGcyBAU5sk2",
        "outputId": "bcac19d2-174c-4a1a-bcc9-1b333e94ac1d"
      },
      "execution_count": null,
      "outputs": [
        {
          "output_type": "execute_result",
          "data": {
            "text/plain": [
              "        Date   Open   High   Low  Close     Volume  Dividends  Stock Splits\n",
              "0 2018-09-12   6.00   6.93  5.35   6.60   66849000          0             0\n",
              "1 2018-09-13   6.62  12.69  6.52  11.60  158346500          0             0\n",
              "2 2018-09-14  12.66  13.80  9.22   9.90  172473600          0             0\n",
              "3 2018-09-17   9.61   9.75  8.50   8.50   56323900          0             0\n",
              "4 2018-09-18   8.73   9.10  7.67   7.68   41827600          0             0\n",
              "5 2018-09-19   7.88   9.15  7.54   8.50   48306500          0             0\n",
              "6 2018-09-20   9.07   9.47  8.42   8.78   40275000          0             0\n",
              "7 2018-09-21   9.05   9.07  8.50   8.59   15118500          0             0\n",
              "8 2018-09-24   8.32   8.39  7.85   7.87   16297900          0             0\n",
              "9 2018-09-25   8.06   8.19  7.50   7.58   18909300          0             0"
            ],
            "text/html": [
              "\n",
              "  <div id=\"df-f28897c9-590d-42f4-93a2-e0a95db60dd5\">\n",
              "    <div class=\"colab-df-container\">\n",
              "      <div>\n",
              "<style scoped>\n",
              "    .dataframe tbody tr th:only-of-type {\n",
              "        vertical-align: middle;\n",
              "    }\n",
              "\n",
              "    .dataframe tbody tr th {\n",
              "        vertical-align: top;\n",
              "    }\n",
              "\n",
              "    .dataframe thead th {\n",
              "        text-align: right;\n",
              "    }\n",
              "</style>\n",
              "<table border=\"1\" class=\"dataframe\">\n",
              "  <thead>\n",
              "    <tr style=\"text-align: right;\">\n",
              "      <th></th>\n",
              "      <th>Date</th>\n",
              "      <th>Open</th>\n",
              "      <th>High</th>\n",
              "      <th>Low</th>\n",
              "      <th>Close</th>\n",
              "      <th>Volume</th>\n",
              "      <th>Dividends</th>\n",
              "      <th>Stock Splits</th>\n",
              "    </tr>\n",
              "  </thead>\n",
              "  <tbody>\n",
              "    <tr>\n",
              "      <th>0</th>\n",
              "      <td>2018-09-12</td>\n",
              "      <td>6.00</td>\n",
              "      <td>6.93</td>\n",
              "      <td>5.35</td>\n",
              "      <td>6.60</td>\n",
              "      <td>66849000</td>\n",
              "      <td>0</td>\n",
              "      <td>0</td>\n",
              "    </tr>\n",
              "    <tr>\n",
              "      <th>1</th>\n",
              "      <td>2018-09-13</td>\n",
              "      <td>6.62</td>\n",
              "      <td>12.69</td>\n",
              "      <td>6.52</td>\n",
              "      <td>11.60</td>\n",
              "      <td>158346500</td>\n",
              "      <td>0</td>\n",
              "      <td>0</td>\n",
              "    </tr>\n",
              "    <tr>\n",
              "      <th>2</th>\n",
              "      <td>2018-09-14</td>\n",
              "      <td>12.66</td>\n",
              "      <td>13.80</td>\n",
              "      <td>9.22</td>\n",
              "      <td>9.90</td>\n",
              "      <td>172473600</td>\n",
              "      <td>0</td>\n",
              "      <td>0</td>\n",
              "    </tr>\n",
              "    <tr>\n",
              "      <th>3</th>\n",
              "      <td>2018-09-17</td>\n",
              "      <td>9.61</td>\n",
              "      <td>9.75</td>\n",
              "      <td>8.50</td>\n",
              "      <td>8.50</td>\n",
              "      <td>56323900</td>\n",
              "      <td>0</td>\n",
              "      <td>0</td>\n",
              "    </tr>\n",
              "    <tr>\n",
              "      <th>4</th>\n",
              "      <td>2018-09-18</td>\n",
              "      <td>8.73</td>\n",
              "      <td>9.10</td>\n",
              "      <td>7.67</td>\n",
              "      <td>7.68</td>\n",
              "      <td>41827600</td>\n",
              "      <td>0</td>\n",
              "      <td>0</td>\n",
              "    </tr>\n",
              "    <tr>\n",
              "      <th>5</th>\n",
              "      <td>2018-09-19</td>\n",
              "      <td>7.88</td>\n",
              "      <td>9.15</td>\n",
              "      <td>7.54</td>\n",
              "      <td>8.50</td>\n",
              "      <td>48306500</td>\n",
              "      <td>0</td>\n",
              "      <td>0</td>\n",
              "    </tr>\n",
              "    <tr>\n",
              "      <th>6</th>\n",
              "      <td>2018-09-20</td>\n",
              "      <td>9.07</td>\n",
              "      <td>9.47</td>\n",
              "      <td>8.42</td>\n",
              "      <td>8.78</td>\n",
              "      <td>40275000</td>\n",
              "      <td>0</td>\n",
              "      <td>0</td>\n",
              "    </tr>\n",
              "    <tr>\n",
              "      <th>7</th>\n",
              "      <td>2018-09-21</td>\n",
              "      <td>9.05</td>\n",
              "      <td>9.07</td>\n",
              "      <td>8.50</td>\n",
              "      <td>8.59</td>\n",
              "      <td>15118500</td>\n",
              "      <td>0</td>\n",
              "      <td>0</td>\n",
              "    </tr>\n",
              "    <tr>\n",
              "      <th>8</th>\n",
              "      <td>2018-09-24</td>\n",
              "      <td>8.32</td>\n",
              "      <td>8.39</td>\n",
              "      <td>7.85</td>\n",
              "      <td>7.87</td>\n",
              "      <td>16297900</td>\n",
              "      <td>0</td>\n",
              "      <td>0</td>\n",
              "    </tr>\n",
              "    <tr>\n",
              "      <th>9</th>\n",
              "      <td>2018-09-25</td>\n",
              "      <td>8.06</td>\n",
              "      <td>8.19</td>\n",
              "      <td>7.50</td>\n",
              "      <td>7.58</td>\n",
              "      <td>18909300</td>\n",
              "      <td>0</td>\n",
              "      <td>0</td>\n",
              "    </tr>\n",
              "  </tbody>\n",
              "</table>\n",
              "</div>\n",
              "      <button class=\"colab-df-convert\" onclick=\"convertToInteractive('df-f28897c9-590d-42f4-93a2-e0a95db60dd5')\"\n",
              "              title=\"Convert this dataframe to an interactive table.\"\n",
              "              style=\"display:none;\">\n",
              "        \n",
              "  <svg xmlns=\"http://www.w3.org/2000/svg\" height=\"24px\"viewBox=\"0 0 24 24\"\n",
              "       width=\"24px\">\n",
              "    <path d=\"M0 0h24v24H0V0z\" fill=\"none\"/>\n",
              "    <path d=\"M18.56 5.44l.94 2.06.94-2.06 2.06-.94-2.06-.94-.94-2.06-.94 2.06-2.06.94zm-11 1L8.5 8.5l.94-2.06 2.06-.94-2.06-.94L8.5 2.5l-.94 2.06-2.06.94zm10 10l.94 2.06.94-2.06 2.06-.94-2.06-.94-.94-2.06-.94 2.06-2.06.94z\"/><path d=\"M17.41 7.96l-1.37-1.37c-.4-.4-.92-.59-1.43-.59-.52 0-1.04.2-1.43.59L10.3 9.45l-7.72 7.72c-.78.78-.78 2.05 0 2.83L4 21.41c.39.39.9.59 1.41.59.51 0 1.02-.2 1.41-.59l7.78-7.78 2.81-2.81c.8-.78.8-2.07 0-2.86zM5.41 20L4 18.59l7.72-7.72 1.47 1.35L5.41 20z\"/>\n",
              "  </svg>\n",
              "      </button>\n",
              "      \n",
              "  <style>\n",
              "    .colab-df-container {\n",
              "      display:flex;\n",
              "      flex-wrap:wrap;\n",
              "      gap: 12px;\n",
              "    }\n",
              "\n",
              "    .colab-df-convert {\n",
              "      background-color: #E8F0FE;\n",
              "      border: none;\n",
              "      border-radius: 50%;\n",
              "      cursor: pointer;\n",
              "      display: none;\n",
              "      fill: #1967D2;\n",
              "      height: 32px;\n",
              "      padding: 0 0 0 0;\n",
              "      width: 32px;\n",
              "    }\n",
              "\n",
              "    .colab-df-convert:hover {\n",
              "      background-color: #E2EBFA;\n",
              "      box-shadow: 0px 1px 2px rgba(60, 64, 67, 0.3), 0px 1px 3px 1px rgba(60, 64, 67, 0.15);\n",
              "      fill: #174EA6;\n",
              "    }\n",
              "\n",
              "    [theme=dark] .colab-df-convert {\n",
              "      background-color: #3B4455;\n",
              "      fill: #D2E3FC;\n",
              "    }\n",
              "\n",
              "    [theme=dark] .colab-df-convert:hover {\n",
              "      background-color: #434B5C;\n",
              "      box-shadow: 0px 1px 3px 1px rgba(0, 0, 0, 0.15);\n",
              "      filter: drop-shadow(0px 1px 2px rgba(0, 0, 0, 0.3));\n",
              "      fill: #FFFFFF;\n",
              "    }\n",
              "  </style>\n",
              "\n",
              "      <script>\n",
              "        const buttonEl =\n",
              "          document.querySelector('#df-f28897c9-590d-42f4-93a2-e0a95db60dd5 button.colab-df-convert');\n",
              "        buttonEl.style.display =\n",
              "          google.colab.kernel.accessAllowed ? 'block' : 'none';\n",
              "\n",
              "        async function convertToInteractive(key) {\n",
              "          const element = document.querySelector('#df-f28897c9-590d-42f4-93a2-e0a95db60dd5');\n",
              "          const dataTable =\n",
              "            await google.colab.kernel.invokeFunction('convertToInteractive',\n",
              "                                                     [key], {});\n",
              "          if (!dataTable) return;\n",
              "\n",
              "          const docLinkHtml = 'Like what you see? Visit the ' +\n",
              "            '<a target=\"_blank\" href=https://colab.research.google.com/notebooks/data_table.ipynb>data table notebook</a>'\n",
              "            + ' to learn more about interactive tables.';\n",
              "          element.innerHTML = '';\n",
              "          dataTable['output_type'] = 'display_data';\n",
              "          await google.colab.output.renderOutput(dataTable, element);\n",
              "          const docLink = document.createElement('div');\n",
              "          docLink.innerHTML = docLinkHtml;\n",
              "          element.appendChild(docLink);\n",
              "        }\n",
              "      </script>\n",
              "    </div>\n",
              "  </div>\n",
              "  "
            ]
          },
          "metadata": {},
          "execution_count": 10
        }
      ]
    },
    {
      "cell_type": "code",
      "source": [
        "df.isnull().sum()"
      ],
      "metadata": {
        "colab": {
          "base_uri": "https://localhost:8080/"
        },
        "id": "tAHuXS8YHNm6",
        "outputId": "34890af2-e1aa-4a85-e02f-cf5292fbd836"
      },
      "execution_count": null,
      "outputs": [
        {
          "output_type": "execute_result",
          "data": {
            "text/plain": [
              "Date            0\n",
              "Open            0\n",
              "High            0\n",
              "Low             0\n",
              "Close           0\n",
              "Volume          0\n",
              "Dividends       0\n",
              "Stock Splits    0\n",
              "dtype: int64"
            ]
          },
          "metadata": {},
          "execution_count": 63
        }
      ]
    },
    {
      "cell_type": "code",
      "source": [
        "df.columns"
      ],
      "metadata": {
        "colab": {
          "base_uri": "https://localhost:8080/"
        },
        "id": "_aMi5djm5xK9",
        "outputId": "2d10b5d8-f7b2-4578-b419-bc01a8cb4de1"
      },
      "execution_count": null,
      "outputs": [
        {
          "output_type": "execute_result",
          "data": {
            "text/plain": [
              "Index(['Date', 'Open', 'High', 'Low', 'Close', 'Volume', 'Dividends',\n",
              "       'Stock Splits'],\n",
              "      dtype='object')"
            ]
          },
          "metadata": {},
          "execution_count": 11
        }
      ]
    },
    {
      "cell_type": "code",
      "source": [
        "df.drop(columns=['Dividends','Stock Splits']).head(2)"
      ],
      "metadata": {
        "colab": {
          "base_uri": "https://localhost:8080/",
          "height": 112
        },
        "id": "D1Og_-tt7i0f",
        "outputId": "678b96a2-cc83-4566-a13a-5850f529c172"
      },
      "execution_count": null,
      "outputs": [
        {
          "output_type": "execute_result",
          "data": {
            "text/plain": [
              "        Date  Open   High   Low  Close     Volume\n",
              "0 2018-09-12  6.00   6.93  5.35    6.6   66849000\n",
              "1 2018-09-13  6.62  12.69  6.52   11.6  158346500"
            ],
            "text/html": [
              "\n",
              "  <div id=\"df-0613732c-a395-4d78-b091-51dc835723e6\">\n",
              "    <div class=\"colab-df-container\">\n",
              "      <div>\n",
              "<style scoped>\n",
              "    .dataframe tbody tr th:only-of-type {\n",
              "        vertical-align: middle;\n",
              "    }\n",
              "\n",
              "    .dataframe tbody tr th {\n",
              "        vertical-align: top;\n",
              "    }\n",
              "\n",
              "    .dataframe thead th {\n",
              "        text-align: right;\n",
              "    }\n",
              "</style>\n",
              "<table border=\"1\" class=\"dataframe\">\n",
              "  <thead>\n",
              "    <tr style=\"text-align: right;\">\n",
              "      <th></th>\n",
              "      <th>Date</th>\n",
              "      <th>Open</th>\n",
              "      <th>High</th>\n",
              "      <th>Low</th>\n",
              "      <th>Close</th>\n",
              "      <th>Volume</th>\n",
              "    </tr>\n",
              "  </thead>\n",
              "  <tbody>\n",
              "    <tr>\n",
              "      <th>0</th>\n",
              "      <td>2018-09-12</td>\n",
              "      <td>6.00</td>\n",
              "      <td>6.93</td>\n",
              "      <td>5.35</td>\n",
              "      <td>6.6</td>\n",
              "      <td>66849000</td>\n",
              "    </tr>\n",
              "    <tr>\n",
              "      <th>1</th>\n",
              "      <td>2018-09-13</td>\n",
              "      <td>6.62</td>\n",
              "      <td>12.69</td>\n",
              "      <td>6.52</td>\n",
              "      <td>11.6</td>\n",
              "      <td>158346500</td>\n",
              "    </tr>\n",
              "  </tbody>\n",
              "</table>\n",
              "</div>\n",
              "      <button class=\"colab-df-convert\" onclick=\"convertToInteractive('df-0613732c-a395-4d78-b091-51dc835723e6')\"\n",
              "              title=\"Convert this dataframe to an interactive table.\"\n",
              "              style=\"display:none;\">\n",
              "        \n",
              "  <svg xmlns=\"http://www.w3.org/2000/svg\" height=\"24px\"viewBox=\"0 0 24 24\"\n",
              "       width=\"24px\">\n",
              "    <path d=\"M0 0h24v24H0V0z\" fill=\"none\"/>\n",
              "    <path d=\"M18.56 5.44l.94 2.06.94-2.06 2.06-.94-2.06-.94-.94-2.06-.94 2.06-2.06.94zm-11 1L8.5 8.5l.94-2.06 2.06-.94-2.06-.94L8.5 2.5l-.94 2.06-2.06.94zm10 10l.94 2.06.94-2.06 2.06-.94-2.06-.94-.94-2.06-.94 2.06-2.06.94z\"/><path d=\"M17.41 7.96l-1.37-1.37c-.4-.4-.92-.59-1.43-.59-.52 0-1.04.2-1.43.59L10.3 9.45l-7.72 7.72c-.78.78-.78 2.05 0 2.83L4 21.41c.39.39.9.59 1.41.59.51 0 1.02-.2 1.41-.59l7.78-7.78 2.81-2.81c.8-.78.8-2.07 0-2.86zM5.41 20L4 18.59l7.72-7.72 1.47 1.35L5.41 20z\"/>\n",
              "  </svg>\n",
              "      </button>\n",
              "      \n",
              "  <style>\n",
              "    .colab-df-container {\n",
              "      display:flex;\n",
              "      flex-wrap:wrap;\n",
              "      gap: 12px;\n",
              "    }\n",
              "\n",
              "    .colab-df-convert {\n",
              "      background-color: #E8F0FE;\n",
              "      border: none;\n",
              "      border-radius: 50%;\n",
              "      cursor: pointer;\n",
              "      display: none;\n",
              "      fill: #1967D2;\n",
              "      height: 32px;\n",
              "      padding: 0 0 0 0;\n",
              "      width: 32px;\n",
              "    }\n",
              "\n",
              "    .colab-df-convert:hover {\n",
              "      background-color: #E2EBFA;\n",
              "      box-shadow: 0px 1px 2px rgba(60, 64, 67, 0.3), 0px 1px 3px 1px rgba(60, 64, 67, 0.15);\n",
              "      fill: #174EA6;\n",
              "    }\n",
              "\n",
              "    [theme=dark] .colab-df-convert {\n",
              "      background-color: #3B4455;\n",
              "      fill: #D2E3FC;\n",
              "    }\n",
              "\n",
              "    [theme=dark] .colab-df-convert:hover {\n",
              "      background-color: #434B5C;\n",
              "      box-shadow: 0px 1px 3px 1px rgba(0, 0, 0, 0.15);\n",
              "      filter: drop-shadow(0px 1px 2px rgba(0, 0, 0, 0.3));\n",
              "      fill: #FFFFFF;\n",
              "    }\n",
              "  </style>\n",
              "\n",
              "      <script>\n",
              "        const buttonEl =\n",
              "          document.querySelector('#df-0613732c-a395-4d78-b091-51dc835723e6 button.colab-df-convert');\n",
              "        buttonEl.style.display =\n",
              "          google.colab.kernel.accessAllowed ? 'block' : 'none';\n",
              "\n",
              "        async function convertToInteractive(key) {\n",
              "          const element = document.querySelector('#df-0613732c-a395-4d78-b091-51dc835723e6');\n",
              "          const dataTable =\n",
              "            await google.colab.kernel.invokeFunction('convertToInteractive',\n",
              "                                                     [key], {});\n",
              "          if (!dataTable) return;\n",
              "\n",
              "          const docLinkHtml = 'Like what you see? Visit the ' +\n",
              "            '<a target=\"_blank\" href=https://colab.research.google.com/notebooks/data_table.ipynb>data table notebook</a>'\n",
              "            + ' to learn more about interactive tables.';\n",
              "          element.innerHTML = '';\n",
              "          dataTable['output_type'] = 'display_data';\n",
              "          await google.colab.output.renderOutput(dataTable, element);\n",
              "          const docLink = document.createElement('div');\n",
              "          docLink.innerHTML = docLinkHtml;\n",
              "          element.appendChild(docLink);\n",
              "        }\n",
              "      </script>\n",
              "    </div>\n",
              "  </div>\n",
              "  "
            ]
          },
          "metadata": {},
          "execution_count": 12
        }
      ]
    },
    {
      "cell_type": "code",
      "source": [
        "df['Date'] = pd.to_datetime(df.Date)"
      ],
      "metadata": {
        "id": "AhFjYxmL7o8C"
      },
      "execution_count": null,
      "outputs": []
    },
    {
      "cell_type": "code",
      "source": [
        "df.describe()"
      ],
      "metadata": {
        "colab": {
          "base_uri": "https://localhost:8080/",
          "height": 300
        },
        "id": "RN2o1a_a7xIc",
        "outputId": "ed8196ce-d0d9-460d-862a-3132719a34dd"
      },
      "execution_count": null,
      "outputs": [
        {
          "output_type": "execute_result",
          "data": {
            "text/plain": [
              "             Open        High         Low       Close        Volume  \\\n",
              "count  982.000000  982.000000  982.000000  982.000000  9.820000e+02   \n",
              "mean    19.619012   20.241874   18.928483   19.602179  6.580852e+07   \n",
              "std     16.997291   17.466657   16.428885   16.964081  6.369750e+07   \n",
              "min      1.190000    1.450000    1.190000    1.320000  5.111000e+06   \n",
              "25%      4.207500    4.400000    4.012500    4.252500  2.794815e+07   \n",
              "50%     14.310000   14.835000   13.615000   14.165000  5.000115e+07   \n",
              "75%     35.759999   36.647501   34.925000   35.797502  7.828012e+07   \n",
              "max     64.949997   66.989998   62.189999   62.840000  5.771851e+08   \n",
              "\n",
              "       Dividends  Stock Splits  \n",
              "count      982.0         982.0  \n",
              "mean         0.0           0.0  \n",
              "std          0.0           0.0  \n",
              "min          0.0           0.0  \n",
              "25%          0.0           0.0  \n",
              "50%          0.0           0.0  \n",
              "75%          0.0           0.0  \n",
              "max          0.0           0.0  "
            ],
            "text/html": [
              "\n",
              "  <div id=\"df-84963a95-0144-4f76-9871-977527b9727e\">\n",
              "    <div class=\"colab-df-container\">\n",
              "      <div>\n",
              "<style scoped>\n",
              "    .dataframe tbody tr th:only-of-type {\n",
              "        vertical-align: middle;\n",
              "    }\n",
              "\n",
              "    .dataframe tbody tr th {\n",
              "        vertical-align: top;\n",
              "    }\n",
              "\n",
              "    .dataframe thead th {\n",
              "        text-align: right;\n",
              "    }\n",
              "</style>\n",
              "<table border=\"1\" class=\"dataframe\">\n",
              "  <thead>\n",
              "    <tr style=\"text-align: right;\">\n",
              "      <th></th>\n",
              "      <th>Open</th>\n",
              "      <th>High</th>\n",
              "      <th>Low</th>\n",
              "      <th>Close</th>\n",
              "      <th>Volume</th>\n",
              "      <th>Dividends</th>\n",
              "      <th>Stock Splits</th>\n",
              "    </tr>\n",
              "  </thead>\n",
              "  <tbody>\n",
              "    <tr>\n",
              "      <th>count</th>\n",
              "      <td>982.000000</td>\n",
              "      <td>982.000000</td>\n",
              "      <td>982.000000</td>\n",
              "      <td>982.000000</td>\n",
              "      <td>9.820000e+02</td>\n",
              "      <td>982.0</td>\n",
              "      <td>982.0</td>\n",
              "    </tr>\n",
              "    <tr>\n",
              "      <th>mean</th>\n",
              "      <td>19.619012</td>\n",
              "      <td>20.241874</td>\n",
              "      <td>18.928483</td>\n",
              "      <td>19.602179</td>\n",
              "      <td>6.580852e+07</td>\n",
              "      <td>0.0</td>\n",
              "      <td>0.0</td>\n",
              "    </tr>\n",
              "    <tr>\n",
              "      <th>std</th>\n",
              "      <td>16.997291</td>\n",
              "      <td>17.466657</td>\n",
              "      <td>16.428885</td>\n",
              "      <td>16.964081</td>\n",
              "      <td>6.369750e+07</td>\n",
              "      <td>0.0</td>\n",
              "      <td>0.0</td>\n",
              "    </tr>\n",
              "    <tr>\n",
              "      <th>min</th>\n",
              "      <td>1.190000</td>\n",
              "      <td>1.450000</td>\n",
              "      <td>1.190000</td>\n",
              "      <td>1.320000</td>\n",
              "      <td>5.111000e+06</td>\n",
              "      <td>0.0</td>\n",
              "      <td>0.0</td>\n",
              "    </tr>\n",
              "    <tr>\n",
              "      <th>25%</th>\n",
              "      <td>4.207500</td>\n",
              "      <td>4.400000</td>\n",
              "      <td>4.012500</td>\n",
              "      <td>4.252500</td>\n",
              "      <td>2.794815e+07</td>\n",
              "      <td>0.0</td>\n",
              "      <td>0.0</td>\n",
              "    </tr>\n",
              "    <tr>\n",
              "      <th>50%</th>\n",
              "      <td>14.310000</td>\n",
              "      <td>14.835000</td>\n",
              "      <td>13.615000</td>\n",
              "      <td>14.165000</td>\n",
              "      <td>5.000115e+07</td>\n",
              "      <td>0.0</td>\n",
              "      <td>0.0</td>\n",
              "    </tr>\n",
              "    <tr>\n",
              "      <th>75%</th>\n",
              "      <td>35.759999</td>\n",
              "      <td>36.647501</td>\n",
              "      <td>34.925000</td>\n",
              "      <td>35.797502</td>\n",
              "      <td>7.828012e+07</td>\n",
              "      <td>0.0</td>\n",
              "      <td>0.0</td>\n",
              "    </tr>\n",
              "    <tr>\n",
              "      <th>max</th>\n",
              "      <td>64.949997</td>\n",
              "      <td>66.989998</td>\n",
              "      <td>62.189999</td>\n",
              "      <td>62.840000</td>\n",
              "      <td>5.771851e+08</td>\n",
              "      <td>0.0</td>\n",
              "      <td>0.0</td>\n",
              "    </tr>\n",
              "  </tbody>\n",
              "</table>\n",
              "</div>\n",
              "      <button class=\"colab-df-convert\" onclick=\"convertToInteractive('df-84963a95-0144-4f76-9871-977527b9727e')\"\n",
              "              title=\"Convert this dataframe to an interactive table.\"\n",
              "              style=\"display:none;\">\n",
              "        \n",
              "  <svg xmlns=\"http://www.w3.org/2000/svg\" height=\"24px\"viewBox=\"0 0 24 24\"\n",
              "       width=\"24px\">\n",
              "    <path d=\"M0 0h24v24H0V0z\" fill=\"none\"/>\n",
              "    <path d=\"M18.56 5.44l.94 2.06.94-2.06 2.06-.94-2.06-.94-.94-2.06-.94 2.06-2.06.94zm-11 1L8.5 8.5l.94-2.06 2.06-.94-2.06-.94L8.5 2.5l-.94 2.06-2.06.94zm10 10l.94 2.06.94-2.06 2.06-.94-2.06-.94-.94-2.06-.94 2.06-2.06.94z\"/><path d=\"M17.41 7.96l-1.37-1.37c-.4-.4-.92-.59-1.43-.59-.52 0-1.04.2-1.43.59L10.3 9.45l-7.72 7.72c-.78.78-.78 2.05 0 2.83L4 21.41c.39.39.9.59 1.41.59.51 0 1.02-.2 1.41-.59l7.78-7.78 2.81-2.81c.8-.78.8-2.07 0-2.86zM5.41 20L4 18.59l7.72-7.72 1.47 1.35L5.41 20z\"/>\n",
              "  </svg>\n",
              "      </button>\n",
              "      \n",
              "  <style>\n",
              "    .colab-df-container {\n",
              "      display:flex;\n",
              "      flex-wrap:wrap;\n",
              "      gap: 12px;\n",
              "    }\n",
              "\n",
              "    .colab-df-convert {\n",
              "      background-color: #E8F0FE;\n",
              "      border: none;\n",
              "      border-radius: 50%;\n",
              "      cursor: pointer;\n",
              "      display: none;\n",
              "      fill: #1967D2;\n",
              "      height: 32px;\n",
              "      padding: 0 0 0 0;\n",
              "      width: 32px;\n",
              "    }\n",
              "\n",
              "    .colab-df-convert:hover {\n",
              "      background-color: #E2EBFA;\n",
              "      box-shadow: 0px 1px 2px rgba(60, 64, 67, 0.3), 0px 1px 3px 1px rgba(60, 64, 67, 0.15);\n",
              "      fill: #174EA6;\n",
              "    }\n",
              "\n",
              "    [theme=dark] .colab-df-convert {\n",
              "      background-color: #3B4455;\n",
              "      fill: #D2E3FC;\n",
              "    }\n",
              "\n",
              "    [theme=dark] .colab-df-convert:hover {\n",
              "      background-color: #434B5C;\n",
              "      box-shadow: 0px 1px 3px 1px rgba(0, 0, 0, 0.15);\n",
              "      filter: drop-shadow(0px 1px 2px rgba(0, 0, 0, 0.3));\n",
              "      fill: #FFFFFF;\n",
              "    }\n",
              "  </style>\n",
              "\n",
              "      <script>\n",
              "        const buttonEl =\n",
              "          document.querySelector('#df-84963a95-0144-4f76-9871-977527b9727e button.colab-df-convert');\n",
              "        buttonEl.style.display =\n",
              "          google.colab.kernel.accessAllowed ? 'block' : 'none';\n",
              "\n",
              "        async function convertToInteractive(key) {\n",
              "          const element = document.querySelector('#df-84963a95-0144-4f76-9871-977527b9727e');\n",
              "          const dataTable =\n",
              "            await google.colab.kernel.invokeFunction('convertToInteractive',\n",
              "                                                     [key], {});\n",
              "          if (!dataTable) return;\n",
              "\n",
              "          const docLinkHtml = 'Like what you see? Visit the ' +\n",
              "            '<a target=\"_blank\" href=https://colab.research.google.com/notebooks/data_table.ipynb>data table notebook</a>'\n",
              "            + ' to learn more about interactive tables.';\n",
              "          element.innerHTML = '';\n",
              "          dataTable['output_type'] = 'display_data';\n",
              "          await google.colab.output.renderOutput(dataTable, element);\n",
              "          const docLink = document.createElement('div');\n",
              "          docLink.innerHTML = docLinkHtml;\n",
              "          element.appendChild(docLink);\n",
              "        }\n",
              "      </script>\n",
              "    </div>\n",
              "  </div>\n",
              "  "
            ]
          },
          "metadata": {},
          "execution_count": 14
        }
      ]
    },
    {
      "cell_type": "code",
      "source": [
        "df.info()"
      ],
      "metadata": {
        "colab": {
          "base_uri": "https://localhost:8080/"
        },
        "id": "HEGWSMAO3quT",
        "outputId": "a891c501-a174-469e-f4fb-d9b41927251d"
      },
      "execution_count": null,
      "outputs": [
        {
          "output_type": "stream",
          "name": "stdout",
          "text": [
            "<class 'pandas.core.frame.DataFrame'>\n",
            "RangeIndex: 982 entries, 0 to 981\n",
            "Data columns (total 8 columns):\n",
            " #   Column        Non-Null Count  Dtype         \n",
            "---  ------        --------------  -----         \n",
            " 0   Date          982 non-null    datetime64[ns]\n",
            " 1   Open          982 non-null    float64       \n",
            " 2   High          982 non-null    float64       \n",
            " 3   Low           982 non-null    float64       \n",
            " 4   Close         982 non-null    float64       \n",
            " 5   Volume        982 non-null    int64         \n",
            " 6   Dividends     982 non-null    int64         \n",
            " 7   Stock Splits  982 non-null    int64         \n",
            "dtypes: datetime64[ns](1), float64(4), int64(3)\n",
            "memory usage: 61.5 KB\n"
          ]
        }
      ]
    },
    {
      "cell_type": "code",
      "source": [
        "print(len(df))"
      ],
      "metadata": {
        "colab": {
          "base_uri": "https://localhost:8080/"
        },
        "id": "YCZcjTg_79IN",
        "outputId": "5d9a2c03-8ed9-4162-b243-6c8eccd957d8"
      },
      "execution_count": null,
      "outputs": [
        {
          "output_type": "stream",
          "name": "stdout",
          "text": [
            "982\n"
          ]
        }
      ]
    },
    {
      "cell_type": "code",
      "source": [
        "x = df[['Open', 'High','Low', 'Volume']]\n",
        "y = df['Close']"
      ],
      "metadata": {
        "id": "c5Wsngyg8EHg"
      },
      "execution_count": null,
      "outputs": []
    },
    {
      "cell_type": "code",
      "source": [
        "train_x, test_x, train_y, test_y = train_test_split(x, y, test_size=0.15 , shuffle=False,random_state = 0)"
      ],
      "metadata": {
        "id": "8sC5ELhQ8Rso"
      },
      "execution_count": null,
      "outputs": []
    },
    {
      "cell_type": "code",
      "source": [
        "print(train_x.shape )\n",
        "print(test_x.shape)\n",
        "print(train_y.shape)\n",
        "print(test_y.shape)"
      ],
      "metadata": {
        "colab": {
          "base_uri": "https://localhost:8080/"
        },
        "id": "3ooQ17428XYP",
        "outputId": "bb801900-a13d-4c4f-d557-f308ca8f03e2"
      },
      "execution_count": null,
      "outputs": [
        {
          "output_type": "stream",
          "name": "stdout",
          "text": [
            "(834, 4)\n",
            "(148, 4)\n",
            "(834,)\n",
            "(148,)\n"
          ]
        }
      ]
    },
    {
      "cell_type": "code",
      "source": [
        "from sklearn.linear_model import LinearRegression\n",
        "from sklearn.metrics import confusion_matrix, accuracy_score\n",
        "regression = LinearRegression()\n",
        "regression.fit(train_x, train_y)\n",
        "print(\"regression coefficient\",regression.coef_)\n",
        "print(\"regression intercept\",regression.intercept_)"
      ],
      "metadata": {
        "id": "tMdaC7Da8crD",
        "colab": {
          "base_uri": "https://localhost:8080/"
        },
        "outputId": "3424bb7d-708b-4393-a114-8da5fb400122"
      },
      "execution_count": null,
      "outputs": [
        {
          "output_type": "stream",
          "name": "stdout",
          "text": [
            "regression coefficient [-6.85638989e-01  9.79052047e-01  7.01135159e-01 -4.10783296e-10]\n",
            "regression intercept 0.0007910314824783882\n"
          ]
        }
      ]
    },
    {
      "cell_type": "code",
      "source": [
        "regression_confidence = regression.score(test_x, test_y)\n",
        "print(\"Multiple regression Accuracy: \", regression_confidence)"
      ],
      "metadata": {
        "id": "i4MGV5nT86tL",
        "colab": {
          "base_uri": "https://localhost:8080/"
        },
        "outputId": "5a6219d9-4938-4536-e1cc-9099884e50a3"
      },
      "execution_count": null,
      "outputs": [
        {
          "output_type": "stream",
          "name": "stdout",
          "text": [
            "Multiple regression Accuracy:  0.9858168401500714\n"
          ]
        }
      ]
    },
    {
      "cell_type": "code",
      "source": [
        "predicted=regression.predict(test_x)\n",
        "print(test_x.head())"
      ],
      "metadata": {
        "id": "DUMswG_29AZJ",
        "colab": {
          "base_uri": "https://localhost:8080/"
        },
        "outputId": "a5bddb10-9a07-4917-e447-1e6ff1dcb06b"
      },
      "execution_count": null,
      "outputs": [
        {
          "output_type": "stream",
          "name": "stdout",
          "text": [
            "          Open       High        Low    Volume\n",
            "834  33.349998  33.389999  31.110001  47866800\n",
            "835  30.969999  31.940001  29.780001  42442700\n",
            "836  30.010000  30.540001  28.280001  48723200\n",
            "837  29.450001  30.420000  28.780001  40781500\n",
            "838  29.000000  29.160000  27.780001  44833600\n"
          ]
        }
      ]
    },
    {
      "cell_type": "code",
      "source": [
        "predicted.shape"
      ],
      "metadata": {
        "id": "a-E4SJLP9Giq",
        "colab": {
          "base_uri": "https://localhost:8080/"
        },
        "outputId": "f61e6f38-4961-4fdc-9fc3-63eb9a245d4b"
      },
      "execution_count": null,
      "outputs": [
        {
          "output_type": "execute_result",
          "data": {
            "text/plain": [
              "(148,)"
            ]
          },
          "metadata": {},
          "execution_count": 23
        }
      ]
    },
    {
      "cell_type": "code",
      "source": [
        "dfr=pd.DataFrame({'Actual_Price':test_y, 'Predicted_Price':predicted})\n",
        "dfr.head(10)"
      ],
      "metadata": {
        "id": "TyEwIHp49KZ6",
        "colab": {
          "base_uri": "https://localhost:8080/",
          "height": 363
        },
        "outputId": "b01ee0ca-c524-4934-e3c2-d626b73ffd6e"
      },
      "execution_count": null,
      "outputs": [
        {
          "output_type": "execute_result",
          "data": {
            "text/plain": [
              "     Actual_Price  Predicted_Price\n",
              "834     31.580000        31.617931\n",
              "835     29.879999        30.899846\n",
              "836     29.309999        29.133103\n",
              "837     29.299999        29.753404\n",
              "838     28.910000        28.125536\n",
              "839     30.020000        29.966731\n",
              "840     31.680000        31.051600\n",
              "841     30.480000        30.818613\n",
              "842     30.950001        30.979376\n",
              "843     29.610001        30.413489"
            ],
            "text/html": [
              "\n",
              "  <div id=\"df-a6820083-56e7-4cc6-9cac-a6c6a7140266\">\n",
              "    <div class=\"colab-df-container\">\n",
              "      <div>\n",
              "<style scoped>\n",
              "    .dataframe tbody tr th:only-of-type {\n",
              "        vertical-align: middle;\n",
              "    }\n",
              "\n",
              "    .dataframe tbody tr th {\n",
              "        vertical-align: top;\n",
              "    }\n",
              "\n",
              "    .dataframe thead th {\n",
              "        text-align: right;\n",
              "    }\n",
              "</style>\n",
              "<table border=\"1\" class=\"dataframe\">\n",
              "  <thead>\n",
              "    <tr style=\"text-align: right;\">\n",
              "      <th></th>\n",
              "      <th>Actual_Price</th>\n",
              "      <th>Predicted_Price</th>\n",
              "    </tr>\n",
              "  </thead>\n",
              "  <tbody>\n",
              "    <tr>\n",
              "      <th>834</th>\n",
              "      <td>31.580000</td>\n",
              "      <td>31.617931</td>\n",
              "    </tr>\n",
              "    <tr>\n",
              "      <th>835</th>\n",
              "      <td>29.879999</td>\n",
              "      <td>30.899846</td>\n",
              "    </tr>\n",
              "    <tr>\n",
              "      <th>836</th>\n",
              "      <td>29.309999</td>\n",
              "      <td>29.133103</td>\n",
              "    </tr>\n",
              "    <tr>\n",
              "      <th>837</th>\n",
              "      <td>29.299999</td>\n",
              "      <td>29.753404</td>\n",
              "    </tr>\n",
              "    <tr>\n",
              "      <th>838</th>\n",
              "      <td>28.910000</td>\n",
              "      <td>28.125536</td>\n",
              "    </tr>\n",
              "    <tr>\n",
              "      <th>839</th>\n",
              "      <td>30.020000</td>\n",
              "      <td>29.966731</td>\n",
              "    </tr>\n",
              "    <tr>\n",
              "      <th>840</th>\n",
              "      <td>31.680000</td>\n",
              "      <td>31.051600</td>\n",
              "    </tr>\n",
              "    <tr>\n",
              "      <th>841</th>\n",
              "      <td>30.480000</td>\n",
              "      <td>30.818613</td>\n",
              "    </tr>\n",
              "    <tr>\n",
              "      <th>842</th>\n",
              "      <td>30.950001</td>\n",
              "      <td>30.979376</td>\n",
              "    </tr>\n",
              "    <tr>\n",
              "      <th>843</th>\n",
              "      <td>29.610001</td>\n",
              "      <td>30.413489</td>\n",
              "    </tr>\n",
              "  </tbody>\n",
              "</table>\n",
              "</div>\n",
              "      <button class=\"colab-df-convert\" onclick=\"convertToInteractive('df-a6820083-56e7-4cc6-9cac-a6c6a7140266')\"\n",
              "              title=\"Convert this dataframe to an interactive table.\"\n",
              "              style=\"display:none;\">\n",
              "        \n",
              "  <svg xmlns=\"http://www.w3.org/2000/svg\" height=\"24px\"viewBox=\"0 0 24 24\"\n",
              "       width=\"24px\">\n",
              "    <path d=\"M0 0h24v24H0V0z\" fill=\"none\"/>\n",
              "    <path d=\"M18.56 5.44l.94 2.06.94-2.06 2.06-.94-2.06-.94-.94-2.06-.94 2.06-2.06.94zm-11 1L8.5 8.5l.94-2.06 2.06-.94-2.06-.94L8.5 2.5l-.94 2.06-2.06.94zm10 10l.94 2.06.94-2.06 2.06-.94-2.06-.94-.94-2.06-.94 2.06-2.06.94z\"/><path d=\"M17.41 7.96l-1.37-1.37c-.4-.4-.92-.59-1.43-.59-.52 0-1.04.2-1.43.59L10.3 9.45l-7.72 7.72c-.78.78-.78 2.05 0 2.83L4 21.41c.39.39.9.59 1.41.59.51 0 1.02-.2 1.41-.59l7.78-7.78 2.81-2.81c.8-.78.8-2.07 0-2.86zM5.41 20L4 18.59l7.72-7.72 1.47 1.35L5.41 20z\"/>\n",
              "  </svg>\n",
              "      </button>\n",
              "      \n",
              "  <style>\n",
              "    .colab-df-container {\n",
              "      display:flex;\n",
              "      flex-wrap:wrap;\n",
              "      gap: 12px;\n",
              "    }\n",
              "\n",
              "    .colab-df-convert {\n",
              "      background-color: #E8F0FE;\n",
              "      border: none;\n",
              "      border-radius: 50%;\n",
              "      cursor: pointer;\n",
              "      display: none;\n",
              "      fill: #1967D2;\n",
              "      height: 32px;\n",
              "      padding: 0 0 0 0;\n",
              "      width: 32px;\n",
              "    }\n",
              "\n",
              "    .colab-df-convert:hover {\n",
              "      background-color: #E2EBFA;\n",
              "      box-shadow: 0px 1px 2px rgba(60, 64, 67, 0.3), 0px 1px 3px 1px rgba(60, 64, 67, 0.15);\n",
              "      fill: #174EA6;\n",
              "    }\n",
              "\n",
              "    [theme=dark] .colab-df-convert {\n",
              "      background-color: #3B4455;\n",
              "      fill: #D2E3FC;\n",
              "    }\n",
              "\n",
              "    [theme=dark] .colab-df-convert:hover {\n",
              "      background-color: #434B5C;\n",
              "      box-shadow: 0px 1px 3px 1px rgba(0, 0, 0, 0.15);\n",
              "      filter: drop-shadow(0px 1px 2px rgba(0, 0, 0, 0.3));\n",
              "      fill: #FFFFFF;\n",
              "    }\n",
              "  </style>\n",
              "\n",
              "      <script>\n",
              "        const buttonEl =\n",
              "          document.querySelector('#df-a6820083-56e7-4cc6-9cac-a6c6a7140266 button.colab-df-convert');\n",
              "        buttonEl.style.display =\n",
              "          google.colab.kernel.accessAllowed ? 'block' : 'none';\n",
              "\n",
              "        async function convertToInteractive(key) {\n",
              "          const element = document.querySelector('#df-a6820083-56e7-4cc6-9cac-a6c6a7140266');\n",
              "          const dataTable =\n",
              "            await google.colab.kernel.invokeFunction('convertToInteractive',\n",
              "                                                     [key], {});\n",
              "          if (!dataTable) return;\n",
              "\n",
              "          const docLinkHtml = 'Like what you see? Visit the ' +\n",
              "            '<a target=\"_blank\" href=https://colab.research.google.com/notebooks/data_table.ipynb>data table notebook</a>'\n",
              "            + ' to learn more about interactive tables.';\n",
              "          element.innerHTML = '';\n",
              "          dataTable['output_type'] = 'display_data';\n",
              "          await google.colab.output.renderOutput(dataTable, element);\n",
              "          const docLink = document.createElement('div');\n",
              "          docLink.innerHTML = docLinkHtml;\n",
              "          element.appendChild(docLink);\n",
              "        }\n",
              "      </script>\n",
              "    </div>\n",
              "  </div>\n",
              "  "
            ]
          },
          "metadata": {},
          "execution_count": 24
        }
      ]
    },
    {
      "cell_type": "code",
      "source": [
        "dfr.describe()"
      ],
      "metadata": {
        "id": "JDfARkqj9S_9",
        "colab": {
          "base_uri": "https://localhost:8080/",
          "height": 300
        },
        "outputId": "2d847da6-ae51-430f-bce3-0bd6564fbf4d"
      },
      "execution_count": null,
      "outputs": [
        {
          "output_type": "execute_result",
          "data": {
            "text/plain": [
              "       Actual_Price  Predicted_Price\n",
              "count    148.000000       148.000000\n",
              "mean      20.799054        20.860706\n",
              "std        4.003098         4.037597\n",
              "min       12.710000        13.054061\n",
              "25%       18.137499        18.310081\n",
              "50%       20.440000        20.501176\n",
              "75%       22.615000        22.797134\n",
              "max       31.680000        31.617931"
            ],
            "text/html": [
              "\n",
              "  <div id=\"df-190cf500-324c-49e2-b605-9cb3dca1ab43\">\n",
              "    <div class=\"colab-df-container\">\n",
              "      <div>\n",
              "<style scoped>\n",
              "    .dataframe tbody tr th:only-of-type {\n",
              "        vertical-align: middle;\n",
              "    }\n",
              "\n",
              "    .dataframe tbody tr th {\n",
              "        vertical-align: top;\n",
              "    }\n",
              "\n",
              "    .dataframe thead th {\n",
              "        text-align: right;\n",
              "    }\n",
              "</style>\n",
              "<table border=\"1\" class=\"dataframe\">\n",
              "  <thead>\n",
              "    <tr style=\"text-align: right;\">\n",
              "      <th></th>\n",
              "      <th>Actual_Price</th>\n",
              "      <th>Predicted_Price</th>\n",
              "    </tr>\n",
              "  </thead>\n",
              "  <tbody>\n",
              "    <tr>\n",
              "      <th>count</th>\n",
              "      <td>148.000000</td>\n",
              "      <td>148.000000</td>\n",
              "    </tr>\n",
              "    <tr>\n",
              "      <th>mean</th>\n",
              "      <td>20.799054</td>\n",
              "      <td>20.860706</td>\n",
              "    </tr>\n",
              "    <tr>\n",
              "      <th>std</th>\n",
              "      <td>4.003098</td>\n",
              "      <td>4.037597</td>\n",
              "    </tr>\n",
              "    <tr>\n",
              "      <th>min</th>\n",
              "      <td>12.710000</td>\n",
              "      <td>13.054061</td>\n",
              "    </tr>\n",
              "    <tr>\n",
              "      <th>25%</th>\n",
              "      <td>18.137499</td>\n",
              "      <td>18.310081</td>\n",
              "    </tr>\n",
              "    <tr>\n",
              "      <th>50%</th>\n",
              "      <td>20.440000</td>\n",
              "      <td>20.501176</td>\n",
              "    </tr>\n",
              "    <tr>\n",
              "      <th>75%</th>\n",
              "      <td>22.615000</td>\n",
              "      <td>22.797134</td>\n",
              "    </tr>\n",
              "    <tr>\n",
              "      <th>max</th>\n",
              "      <td>31.680000</td>\n",
              "      <td>31.617931</td>\n",
              "    </tr>\n",
              "  </tbody>\n",
              "</table>\n",
              "</div>\n",
              "      <button class=\"colab-df-convert\" onclick=\"convertToInteractive('df-190cf500-324c-49e2-b605-9cb3dca1ab43')\"\n",
              "              title=\"Convert this dataframe to an interactive table.\"\n",
              "              style=\"display:none;\">\n",
              "        \n",
              "  <svg xmlns=\"http://www.w3.org/2000/svg\" height=\"24px\"viewBox=\"0 0 24 24\"\n",
              "       width=\"24px\">\n",
              "    <path d=\"M0 0h24v24H0V0z\" fill=\"none\"/>\n",
              "    <path d=\"M18.56 5.44l.94 2.06.94-2.06 2.06-.94-2.06-.94-.94-2.06-.94 2.06-2.06.94zm-11 1L8.5 8.5l.94-2.06 2.06-.94-2.06-.94L8.5 2.5l-.94 2.06-2.06.94zm10 10l.94 2.06.94-2.06 2.06-.94-2.06-.94-.94-2.06-.94 2.06-2.06.94z\"/><path d=\"M17.41 7.96l-1.37-1.37c-.4-.4-.92-.59-1.43-.59-.52 0-1.04.2-1.43.59L10.3 9.45l-7.72 7.72c-.78.78-.78 2.05 0 2.83L4 21.41c.39.39.9.59 1.41.59.51 0 1.02-.2 1.41-.59l7.78-7.78 2.81-2.81c.8-.78.8-2.07 0-2.86zM5.41 20L4 18.59l7.72-7.72 1.47 1.35L5.41 20z\"/>\n",
              "  </svg>\n",
              "      </button>\n",
              "      \n",
              "  <style>\n",
              "    .colab-df-container {\n",
              "      display:flex;\n",
              "      flex-wrap:wrap;\n",
              "      gap: 12px;\n",
              "    }\n",
              "\n",
              "    .colab-df-convert {\n",
              "      background-color: #E8F0FE;\n",
              "      border: none;\n",
              "      border-radius: 50%;\n",
              "      cursor: pointer;\n",
              "      display: none;\n",
              "      fill: #1967D2;\n",
              "      height: 32px;\n",
              "      padding: 0 0 0 0;\n",
              "      width: 32px;\n",
              "    }\n",
              "\n",
              "    .colab-df-convert:hover {\n",
              "      background-color: #E2EBFA;\n",
              "      box-shadow: 0px 1px 2px rgba(60, 64, 67, 0.3), 0px 1px 3px 1px rgba(60, 64, 67, 0.15);\n",
              "      fill: #174EA6;\n",
              "    }\n",
              "\n",
              "    [theme=dark] .colab-df-convert {\n",
              "      background-color: #3B4455;\n",
              "      fill: #D2E3FC;\n",
              "    }\n",
              "\n",
              "    [theme=dark] .colab-df-convert:hover {\n",
              "      background-color: #434B5C;\n",
              "      box-shadow: 0px 1px 3px 1px rgba(0, 0, 0, 0.15);\n",
              "      filter: drop-shadow(0px 1px 2px rgba(0, 0, 0, 0.3));\n",
              "      fill: #FFFFFF;\n",
              "    }\n",
              "  </style>\n",
              "\n",
              "      <script>\n",
              "        const buttonEl =\n",
              "          document.querySelector('#df-190cf500-324c-49e2-b605-9cb3dca1ab43 button.colab-df-convert');\n",
              "        buttonEl.style.display =\n",
              "          google.colab.kernel.accessAllowed ? 'block' : 'none';\n",
              "\n",
              "        async function convertToInteractive(key) {\n",
              "          const element = document.querySelector('#df-190cf500-324c-49e2-b605-9cb3dca1ab43');\n",
              "          const dataTable =\n",
              "            await google.colab.kernel.invokeFunction('convertToInteractive',\n",
              "                                                     [key], {});\n",
              "          if (!dataTable) return;\n",
              "\n",
              "          const docLinkHtml = 'Like what you see? Visit the ' +\n",
              "            '<a target=\"_blank\" href=https://colab.research.google.com/notebooks/data_table.ipynb>data table notebook</a>'\n",
              "            + ' to learn more about interactive tables.';\n",
              "          element.innerHTML = '';\n",
              "          dataTable['output_type'] = 'display_data';\n",
              "          await google.colab.output.renderOutput(dataTable, element);\n",
              "          const docLink = document.createElement('div');\n",
              "          docLink.innerHTML = docLinkHtml;\n",
              "          element.appendChild(docLink);\n",
              "        }\n",
              "      </script>\n",
              "    </div>\n",
              "  </div>\n",
              "  "
            ]
          },
          "metadata": {},
          "execution_count": 25
        }
      ]
    },
    {
      "cell_type": "code",
      "source": [
        "print('Mean Absolute Error (MAE):', metrics.mean_absolute_error(test_y, predicted))\n",
        "print('Mean Squared Error (MSE) :', metrics.mean_squared_error(test_y, predicted))\n",
        "print('Root Mean Squared Error (RMSE):', np.sqrt(metrics.mean_squared_error(test_y, predicted)))"
      ],
      "metadata": {
        "colab": {
          "base_uri": "https://localhost:8080/"
        },
        "id": "0hQO0CId9aKs",
        "outputId": "8034befa-f925-4210-9eaa-8630b5efb9dc"
      },
      "execution_count": null,
      "outputs": [
        {
          "output_type": "stream",
          "name": "stdout",
          "text": [
            "Mean Absolute Error (MAE): 0.37848965683910984\n",
            "Mean Squared Error (MSE) : 0.2257464986507686\n",
            "Root Mean Squared Error (RMSE): 0.47512787610365337\n"
          ]
        }
      ]
    },
    {
      "cell_type": "code",
      "source": [
        "x2 = dfr.Actual_Price.mean()\n",
        "y2 = dfr.Predicted_Price.mean()\n",
        "Accuracy1 = x2/y2*100\n",
        "print(\"The accuracy of the model is \" , Accuracy1)"
      ],
      "metadata": {
        "colab": {
          "base_uri": "https://localhost:8080/"
        },
        "id": "iF4Jeui89hgW",
        "outputId": "40b76dce-2583-4db0-9de0-5cbe0a5d7a70"
      },
      "execution_count": null,
      "outputs": [
        {
          "output_type": "stream",
          "name": "stdout",
          "text": [
            "The accuracy of the model is  99.7044601084419\n"
          ]
        }
      ]
    },
    {
      "cell_type": "code",
      "source": [
        "from sklearn import metrics\n",
        "MLR_score=metrics.r2_score(test_y, regression.predict(test_x))\n",
        "MLR_score"
      ],
      "metadata": {
        "colab": {
          "base_uri": "https://localhost:8080/"
        },
        "id": "JdS9BXTgiOg-",
        "outputId": "5e806b12-c51e-4f03-8259-6b880b395693"
      },
      "execution_count": null,
      "outputs": [
        {
          "output_type": "execute_result",
          "data": {
            "text/plain": [
              "0.9858168401500714"
            ]
          },
          "metadata": {},
          "execution_count": 28
        }
      ]
    },
    {
      "cell_type": "code",
      "source": [
        "plt.scatter(dfr.Actual_Price, dfr.Predicted_Price,  color='Darkblue')\n",
        "plt.xlabel(\"Actual Price\")\n",
        "plt.ylabel(\"Predicted Price\")\n",
        "plt.show()"
      ],
      "metadata": {
        "colab": {
          "base_uri": "https://localhost:8080/",
          "height": 304
        },
        "id": "FgENPlsP941e",
        "outputId": "ccaa6615-7aef-4232-ed6a-9ab41b257e10"
      },
      "execution_count": null,
      "outputs": [
        {
          "output_type": "display_data",
          "data": {
            "text/plain": [
              "<Figure size 432x288 with 1 Axes>"
            ],
            "image/png": "[encoded data removed]"
          },
          "metadata": {}
        }
      ]
    },
    {
      "cell_type": "code",
      "source": [
        "plt.plot(dfr.Actual_Price, color='black')\n",
        "plt.plot(dfr.Predicted_Price, color='lightblue')\n",
        "plt.title(\"Nio prediction chart\")\n",
        "plt.legend();"
      ],
      "metadata": {
        "colab": {
          "base_uri": "https://localhost:8080/",
          "height": 320
        },
        "id": "P5qIdr_S-DxY",
        "outputId": "64d81f81-b708-4e49-c3c4-0db398e03b4d"
      },
      "execution_count": null,
      "outputs": [
        {
          "output_type": "stream",
          "name": "stderr",
          "text": [
            "No handles with labels found to put in legend.\n"
          ]
        },
        {
          "output_type": "display_data",
          "data": {
            "text/plain": [
              "<Figure size 432x288 with 1 Axes>"
            ],
            "image/png": "[encoded data removed]"
          },
          "metadata": {}
        }
      ]
    },
    {
      "cell_type": "code",
      "source": [
        "import seaborn as sns\n",
        "plt.figure(1 , figsize = (17 , 8))\n",
        "cor = sns.heatmap(df.corr(), annot = True)"
      ],
      "metadata": {
        "colab": {
          "base_uri": "https://localhost:8080/",
          "height": 520
        },
        "id": "mM4tIoQfFDa7",
        "outputId": "26076852-346e-41ca-e3e2-03d1563b087c"
      },
      "execution_count": null,
      "outputs": [
        {
          "output_type": "display_data",
          "data": {
            "text/plain": [
              "<Figure size 1224x576 with 2 Axes>"
            ],
            "image/png": "[encoded data removed]"
          },
          "metadata": {}
        }
      ]
    },
    {
      "cell_type": "code",
      "source": [
        "from sklearn import svm\n",
        "from sklearn.ensemble import RandomForestClassifier\n",
        "from sklearn.neighbors import KNeighborsClassifier\n",
        "from sklearn.ensemble import AdaBoostClassifier\n",
        "from sklearn.ensemble import GradientBoostingClassifier\n",
        "from sklearn.ensemble import VotingClassifier\n",
        "from sklearn.model_selection import train_test_split, GridSearchCV\n",
        "from sklearn.metrics import confusion_matrix, classification_report\n",
        "from sklearn import metrics\n",
        "import datetime"
      ],
      "metadata": {
        "id": "cLynfjEfkxxq"
      },
      "execution_count": null,
      "outputs": []
    },
    {
      "cell_type": "code",
      "source": [
        "NUM_DAYS = 10000     # The number of days of historical data to retrieve\n",
        "INTERVAL = '1d'     # Sample rate of historical data\n",
        "symbol = 'SPY'      # Symbol of the desired stock\n",
        "\n",
        "# List of symbols for technical indicators\n",
        "INDICATORS = ['RSI', 'MACD', 'STOCH','ADL', 'ATR', 'MOM', 'MFI', 'ROC', 'OBV', 'CCI', 'EMV', 'VORTEX']"
      ],
      "metadata": {
        "id": "hxvzrSM8luY1"
      },
      "execution_count": null,
      "outputs": []
    },
    {
      "cell_type": "code",
      "source": [
        "start = (datetime.date.today() - datetime.timedelta( NUM_DAYS ) )\n",
        "end = datetime.datetime.today()\n",
        "\n",
        "data = yf.download(symbol, start=start, end=end, interval=INTERVAL)\n",
        "data.rename(columns={\"Close\": 'close', \"High\": 'high', \"Low\": 'low', 'Volume': 'volume', 'Open': 'open'}, inplace=True)\n",
        "print(data.head())\n",
        "\n",
        "tmp = data.iloc[-60:]\n",
        "tmp['close'].plot()"
      ],
      "metadata": {
        "colab": {
          "base_uri": "https://localhost:8080/",
          "height": 461
        },
        "id": "t_TwDiTMlLg4",
        "outputId": "677af85e-a121-4a63-d553-556f1ebc974c"
      },
      "execution_count": null,
      "outputs": [
        {
          "output_type": "stream",
          "name": "stdout",
          "text": [
            "\r[*********************100%***********************]  1 of 1 completed\n",
            "                 open       high        low      close  Adj Close  volume\n",
            "Date                                                                     \n",
            "1995-03-21  49.562500  49.875000  49.359375  49.437500  30.287693  104400\n",
            "1995-03-22  49.531250  49.531250  49.328125  49.484375  30.316408   74900\n",
            "1995-03-23  49.421875  49.656250  49.359375  49.515625  30.335550  220500\n",
            "1995-03-24  49.671875  50.218750  49.671875  50.218750  30.766319  134000\n",
            "1995-03-27  50.296875  50.421875  50.171875  50.421875  30.890760  132100\n"
          ]
        },
        {
          "output_type": "execute_result",
          "data": {
            "text/plain": [
              "<matplotlib.axes._subplots.AxesSubplot at 0x7ff1b8187b10>"
            ]
          },
          "metadata": {},
          "execution_count": 34
        },
        {
          "output_type": "display_data",
          "data": {
            "text/plain": [
              "<Figure size 432x288 with 1 Axes>"
            ],
            "image/png": "[encoded data removed]"
          },
          "metadata": {}
        }
      ]
    },
    {
      "cell_type": "markdown",
      "source": [
        "# **Decision Tree**"
      ],
      "metadata": {
        "id": "pP9M-jEZ6DKx"
      }
    },
    {
      "cell_type": "code",
      "source": [
        "x = df[['Open', 'High','Low', 'Volume']]\n",
        "y = df['Close']"
      ],
      "metadata": {
        "id": "k0hFwDheEqBX"
      },
      "execution_count": null,
      "outputs": []
    },
    {
      "cell_type": "code",
      "source": [
        "from sklearn.tree import DecisionTreeRegressor\n"
      ],
      "metadata": {
        "id": "QangMQGf6OMQ"
      },
      "execution_count": null,
      "outputs": []
    },
    {
      "cell_type": "code",
      "source": [
        "print(train_y)"
      ],
      "metadata": {
        "id": "CFDmJcIa9bwg",
        "colab": {
          "base_uri": "https://localhost:8080/"
        },
        "outputId": "50919db8-001e-45ae-d705-eac8a018d0ba"
      },
      "execution_count": null,
      "outputs": [
        {
          "output_type": "stream",
          "name": "stdout",
          "text": [
            "0       6.600000\n",
            "1      11.600000\n",
            "2       9.900000\n",
            "3       8.500000\n",
            "4       7.680000\n",
            "         ...    \n",
            "829    29.629999\n",
            "830    28.250000\n",
            "831    32.419998\n",
            "832    31.680000\n",
            "833    33.470001\n",
            "Name: Close, Length: 834, dtype: float64\n"
          ]
        }
      ]
    },
    {
      "cell_type": "code",
      "source": [
        "train_x, test_x, train_y, test_y = train_test_split(x, y, test_size=0.15 , shuffle=False,random_state = 0)"
      ],
      "metadata": {
        "id": "-sWhClFgEpJP"
      },
      "execution_count": null,
      "outputs": []
    },
    {
      "cell_type": "code",
      "source": [
        "reg= DecisionTreeRegressor(random_state=0)\n",
        "reg.fit(train_x,train_y)"
      ],
      "metadata": {
        "colab": {
          "base_uri": "https://localhost:8080/"
        },
        "id": "IHxS5Q__6X4v",
        "outputId": "08594624-fdb2-41a3-cb0e-8a709afc0a5d"
      },
      "execution_count": null,
      "outputs": [
        {
          "output_type": "execute_result",
          "data": {
            "text/plain": [
              "DecisionTreeRegressor(random_state=0)"
            ]
          },
          "metadata": {},
          "execution_count": 39
        }
      ]
    },
    {
      "cell_type": "code",
      "source": [
        "\n",
        "y_pred = reg.predict(test_x)\n"
      ],
      "metadata": {
        "id": "EitizFpeA2i_"
      },
      "execution_count": null,
      "outputs": []
    },
    {
      "cell_type": "code",
      "source": [
        "print('Mean Absolute Error (MAE):', metrics.mean_absolute_error(test_y, y_pred))\n",
        "print('Mean Squared Error (MSE) :', metrics.mean_squared_error(test_y, y_pred))\n",
        "print('Root Mean Squared Error (RMSE):', np.sqrt(metrics.mean_squared_error(test_y, y_pred)))"
      ],
      "metadata": {
        "colab": {
          "base_uri": "https://localhost:8080/"
        },
        "id": "CuSVYGmMkH_C",
        "outputId": "9ac74dac-82cb-4d43-de9a-d92e0adacdcd"
      },
      "execution_count": null,
      "outputs": [
        {
          "output_type": "stream",
          "name": "stdout",
          "text": [
            "Mean Absolute Error (MAE): 0.7509459869281666\n",
            "Mean Squared Error (MSE) : 1.089798764440711\n",
            "Root Mean Squared Error (RMSE): 1.0439342720883873\n"
          ]
        }
      ]
    },
    {
      "cell_type": "code",
      "source": [],
      "metadata": {
        "id": "SdUw4Up-kH9u"
      },
      "execution_count": null,
      "outputs": []
    },
    {
      "cell_type": "code",
      "source": [
        "from sklearn import metrics\n",
        "DT_score=metrics.r2_score(test_y, reg.predict(test_x))\n",
        "DT_score"
      ],
      "metadata": {
        "colab": {
          "base_uri": "https://localhost:8080/"
        },
        "id": "KZqk80hTfhL0",
        "outputId": "1dd98fa5-c2f4-429f-a20c-18a489b0200f"
      },
      "execution_count": null,
      "outputs": [
        {
          "output_type": "execute_result",
          "data": {
            "text/plain": [
              "0.9315303219642446"
            ]
          },
          "metadata": {},
          "execution_count": 42
        }
      ]
    },
    {
      "cell_type": "markdown",
      "source": [
        "# **ADA BOOST**"
      ],
      "metadata": {
        "id": "AMA1U8NzdrtG"
      }
    },
    {
      "cell_type": "code",
      "source": [
        "from sklearn.ensemble import AdaBoostRegressor\n",
        "from sklearn.tree import DecisionTreeRegressor\n",
        "\n",
        "\n",
        "DTR=DecisionTreeRegressor(max_depth=1)\n",
        "RegModel = AdaBoostRegressor(n_estimators=50, base_estimator=DTR ,learning_rate=1)\n",
        "print(RegModel)\n",
        "\n",
        "\n",
        "AB=RegModel.fit(train_x,train_y)\n",
        "prediction=AB.predict(test_x)\n",
        "\n",
        "\n",
        "\n"
      ],
      "metadata": {
        "id": "UrFGOzzOFBMx",
        "colab": {
          "base_uri": "https://localhost:8080/"
        },
        "outputId": "5fde754b-1ef5-449e-80f3-c1f424a00ed3"
      },
      "execution_count": null,
      "outputs": [
        {
          "output_type": "stream",
          "name": "stdout",
          "text": [
            "AdaBoostRegressor(base_estimator=DecisionTreeRegressor(max_depth=1),\n",
            "                  learning_rate=1)\n"
          ]
        }
      ]
    },
    {
      "cell_type": "code",
      "source": [
        "print('Mean Absolute Error (MAE):', metrics.mean_absolute_error(test_y,prediction))\n",
        "print('Mean Squared Error (MSE) :', metrics.mean_squared_error(test_y, prediction))\n",
        "print('Root Mean Squared Error (RMSE):', np.sqrt(metrics.mean_squared_error(test_y, prediction)))"
      ],
      "metadata": {
        "colab": {
          "base_uri": "https://localhost:8080/"
        },
        "id": "aQARyWREk1lz",
        "outputId": "c974507f-1298-4968-e553-7954dd52db66"
      },
      "execution_count": null,
      "outputs": [
        {
          "output_type": "stream",
          "name": "stdout",
          "text": [
            "Mean Absolute Error (MAE): 12.842690247728314\n",
            "Mean Squared Error (MSE) : 173.13629367764827\n",
            "Root Mean Squared Error (RMSE): 13.158126526130088\n"
          ]
        }
      ]
    },
    {
      "cell_type": "code",
      "source": [
        "from sklearn import metrics\n",
        "AB_score=metrics.r2_score(train_y, AB.predict(train_x))\n",
        "AB_score"
      ],
      "metadata": {
        "colab": {
          "base_uri": "https://localhost:8080/"
        },
        "id": "goompILCe-4k",
        "outputId": "9af46a9d-3dda-40b1-f642-6d3f63cbe623"
      },
      "execution_count": null,
      "outputs": [
        {
          "output_type": "execute_result",
          "data": {
            "text/plain": [
              "0.8871285528588572"
            ]
          },
          "metadata": {},
          "execution_count": 45
        }
      ]
    },
    {
      "cell_type": "markdown",
      "source": [
        "# **XG BOOST**"
      ],
      "metadata": {
        "id": "8-J59f-oHpzu"
      }
    },
    {
      "cell_type": "code",
      "source": [
        "pip install xgboost"
      ],
      "metadata": {
        "colab": {
          "base_uri": "https://localhost:8080/"
        },
        "id": "Ulwo_5tr-0GC",
        "outputId": "fea6a5ff-9834-4abd-83fc-e2524ae7c394"
      },
      "execution_count": null,
      "outputs": [
        {
          "output_type": "stream",
          "name": "stdout",
          "text": [
            "Looking in indexes: https://pypi.org/simple, https://us-python.pkg.dev/colab-wheels/public/simple/\n",
            "Requirement already satisfied: xgboost in /usr/local/lib/python3.7/dist-packages (0.90)\n",
            "Requirement already satisfied: scipy in /usr/local/lib/python3.7/dist-packages (from xgboost) (1.7.3)\n",
            "Requirement already satisfied: numpy in /usr/local/lib/python3.7/dist-packages (from xgboost) (1.21.6)\n"
          ]
        }
      ]
    },
    {
      "cell_type": "code",
      "source": [
        "import xgboost as xgb"
      ],
      "metadata": {
        "id": "5HXcW0Zf_OjN"
      },
      "execution_count": null,
      "outputs": []
    },
    {
      "cell_type": "code",
      "source": [
        "xg_reg = xgb.XGBRegressor(objective ='reg:linear', colsample_bytree = 0.3, learning_rate = 0.1, max_depth = 5, alpha = 10, n_estimators = 10)"
      ],
      "metadata": {
        "id": "_P8S2tcP_STG"
      },
      "execution_count": null,
      "outputs": []
    },
    {
      "cell_type": "code",
      "source": [
        "xg_reg.fit(train_x,train_y)\n",
        "\n",
        "preds = xg_reg.predict(test_x)"
      ],
      "metadata": {
        "colab": {
          "base_uri": "https://localhost:8080/"
        },
        "id": "RfRV3MuL_cf8",
        "outputId": "777d7e20-0dca-4e01-a5a6-c7293737d374"
      },
      "execution_count": null,
      "outputs": [
        {
          "output_type": "stream",
          "name": "stdout",
          "text": [
            "[09:20:57] WARNING: /workspace/src/objective/regression_obj.cu:152: reg:linear is now deprecated in favor of reg:squarederror.\n"
          ]
        }
      ]
    },
    {
      "cell_type": "code",
      "source": [
        "from sklearn import metrics\n",
        "\n",
        "print('Mean Absolute Error:', metrics.mean_absolute_error(test_y, preds))\n",
        "print('Mean Squared Error:', metrics.mean_squared_error(test_y, preds))\n",
        "print('Root Mean Squared Error:', np.sqrt(metrics.mean_squared_error(test_y, preds)))"
      ],
      "metadata": {
        "colab": {
          "base_uri": "https://localhost:8080/"
        },
        "id": "ouiJPGtnQ8yY",
        "outputId": "e1eb9dfb-4680-4e32-cda6-56362de81e50"
      },
      "execution_count": null,
      "outputs": [
        {
          "output_type": "stream",
          "name": "stdout",
          "text": [
            "Mean Absolute Error: 7.240694535745157\n",
            "Mean Squared Error: 55.89823099617708\n",
            "Root Mean Squared Error: 7.4765119538577\n"
          ]
        }
      ]
    },
    {
      "cell_type": "code",
      "source": [
        "from sklearn import metrics\n",
        "xgb_score=metrics.r2_score(train_y,xg_reg.predict(train_x))\n",
        "xgb_score"
      ],
      "metadata": {
        "colab": {
          "base_uri": "https://localhost:8080/"
        },
        "id": "xyJjdKzFeTZs",
        "outputId": "bab50b8e-b724-45bc-dc2e-e9ed116a135f"
      },
      "execution_count": null,
      "outputs": [
        {
          "output_type": "execute_result",
          "data": {
            "text/plain": [
              "0.7157535583979072"
            ]
          },
          "metadata": {},
          "execution_count": 51
        }
      ]
    },
    {
      "cell_type": "markdown",
      "source": [
        "# **random forest **"
      ],
      "metadata": {
        "id": "2D0D7ElqC8x9"
      }
    },
    {
      "cell_type": "code",
      "source": [
        "from sklearn.model_selection import train_test_split\n",
        "\n",
        "X_train, X_test, y_train, y_test = train_test_split(x, y, test_size=0.2, random_state=0)"
      ],
      "metadata": {
        "id": "ScJ_XkkeF-Io"
      },
      "execution_count": null,
      "outputs": []
    },
    {
      "cell_type": "code",
      "source": [
        "from sklearn.preprocessing import StandardScaler\n",
        "\n",
        "sc = StandardScaler()\n",
        "X_train = sc.fit_transform(X_train)\n",
        "X_test = sc.transform(X_test)"
      ],
      "metadata": {
        "id": "T4lIdsw4Gbcx"
      },
      "execution_count": null,
      "outputs": []
    },
    {
      "cell_type": "code",
      "source": [
        "from sklearn.ensemble import RandomForestRegressor\n",
        "\n",
        "regressor = RandomForestRegressor(n_estimators=20, random_state=0)\n",
        "regressor.fit(X_train, y_train)\n",
        "y_pred = regressor.predict(X_test)\n",
        "y_pred"
      ],
      "metadata": {
        "id": "mrAjmpj1Ggs4",
        "colab": {
          "base_uri": "https://localhost:8080/"
        },
        "outputId": "7a64a875-e046-457d-b057-0d8b49088291"
      },
      "execution_count": null,
      "outputs": [
        {
          "output_type": "execute_result",
          "data": {
            "text/plain": [
              "array([12.07749972,  3.18550001,  7.56399994, 58.03699989, 37.95799923,\n",
              "        6.79150009,  3.16850005,  2.36550002,  7.53299999, 14.64750023,\n",
              "        7.27849994, 12.79949999, 13.44650006, 23.99099998,  2.59749998,\n",
              "        6.17400012,  7.99449999, 20.12599983, 11.80499978,  5.97399995,\n",
              "       38.2064991 ,  3.12850002, 43.677001  , 20.78550024,  6.43549995,\n",
              "       39.48849983,  6.85250008, 19.38349991, 42.51699982, 37.19299984,\n",
              "        6.2315001 , 15.12550015, 13.12250013, 50.30200062, 61.8220005 ,\n",
              "       33.8949995 ,  2.91500002,  2.70049999, 20.67799988,  1.81000001,\n",
              "       44.83549995, 37.17199955,  1.93800003,  3.74450003, 20.13800001,\n",
              "        3.41350003, 50.38600044,  3.5865    , 38.51899986, 60.84749908,\n",
              "       16.99449997,  2.40450007, 12.76849995,  1.585     ,  3.83499997,\n",
              "        4.54700007,  3.30499996, 18.48700008,  2.92200001,  3.94500006,\n",
              "        2.71200004,  4.54750001, 27.73400002, 21.00949984,  4.02950009,\n",
              "       35.47749958, 13.73800001, 41.13250046,  1.97400002, 16.61049986,\n",
              "       18.89500036, 20.88650026,  7.37699995, 30.99250011, 38.70999985,\n",
              "        3.38299996, 22.37000017,  5.26299996,  3.15050002, 15.20499997,\n",
              "       34.94950008, 30.43150024, 40.02449989,  1.53999996,  1.60449999,\n",
              "        7.59399998, 41.52099953,  1.56399997, 35.59049969, 46.00949936,\n",
              "        4.14950001,  3.21650001,  3.15350007,  7.75200005, 12.10549979,\n",
              "       12.46699982, 40.47349987, 24.06650019, 35.35299931,  3.14900007,\n",
              "        7.14600005, 29.05499954, 30.09900017,  3.83999996, 39.84900017,\n",
              "       20.16499987, 35.57749977, 13.59450006,  5.23599999,  4.16850011,\n",
              "        1.67549999,  4.28099999,  2.46500003, 42.25999985,  2.85399992,\n",
              "       27.83299971, 36.75649967, 42.56649933, 46.02249947,  8.13399999,\n",
              "       41.22449989, 40.64750004,  8.09099998, 33.99549942, 21.43450012,\n",
              "       17.61749964, 19.26850004, 36.54249935, 20.56450014,  3.17600003,\n",
              "        2.71350002, 19.15350018,  7.77600002,  5.85349998, 45.4704998 ,\n",
              "        6.39500008, 19.14950018, 39.23150024,  3.23650001,  1.49350002,\n",
              "       45.85649948, 23.74900017, 14.00600019, 36.39300022, 56.88499966,\n",
              "       33.79900036, 21.75350027, 20.23999977, 57.61850014,  3.30449997,\n",
              "       13.75300016,  3.39500002, 45.47599983, 38.52650013,  4.97749991,\n",
              "       18.45350008,  4.21200001, 20.38949976, 39.2805006 , 38.70150032,\n",
              "        3.03299997,  5.02549999, 38.5994997 ,  7.02950001,  5.82399993,\n",
              "       43.79650021,  2.45400004, 17.00550027, 50.22500076,  3.81300001,\n",
              "       18.08999977, 46.11949997,  4.16700003,  3.29449998,  7.99949989,\n",
              "       40.90850029, 38.65149994, 47.15200119,  2.58999993, 18.479     ,\n",
              "        4.66299994,  1.791     , 21.78600025, 43.48950081,  3.67799999,\n",
              "       20.21150017,  1.8525    , 21.09749985, 18.58250008, 17.44050007,\n",
              "       23.56549969,  9.81650004, 39.35200005,  6.57650001, 38.55949974,\n",
              "       18.29699955,  2.29300001])"
            ]
          },
          "metadata": {},
          "execution_count": 54
        }
      ]
    },
    {
      "cell_type": "code",
      "source": [
        "from sklearn import metrics\n",
        "\n",
        "print('Mean Absolute Error:', metrics.mean_absolute_error(y_test, y_pred))\n",
        "print('Mean Squared Error:', metrics.mean_squared_error(y_test, y_pred))\n",
        "print('Root Mean Squared Error:', np.sqrt(metrics.mean_squared_error(y_test, y_pred)))"
      ],
      "metadata": {
        "colab": {
          "base_uri": "https://localhost:8080/"
        },
        "id": "seQpq6c3Gitc",
        "outputId": "dbc6e253-7001-4a65-b41d-b1a8847af58e"
      },
      "execution_count": null,
      "outputs": [
        {
          "output_type": "stream",
          "name": "stdout",
          "text": [
            "Mean Absolute Error: 0.3417715802713093\n",
            "Mean Squared Error: 0.26729196014439643\n",
            "Root Mean Squared Error: 0.5170028628009679\n"
          ]
        }
      ]
    },
    {
      "cell_type": "code",
      "source": [
        "Y_pred = regressor.predict(test_x)\n",
        "Y_pred\n"
      ],
      "metadata": {
        "id": "GtOb8H-nDJVr",
        "colab": {
          "base_uri": "https://localhost:8080/"
        },
        "outputId": "9c62bcd9-5ae3-4fb4-9a0d-10e3d896cbe6"
      },
      "execution_count": null,
      "outputs": [
        {
          "output_type": "stream",
          "name": "stderr",
          "text": [
            "/usr/local/lib/python3.7/dist-packages/sklearn/base.py:444: UserWarning: X has feature names, but RandomForestRegressor was fitted without feature names\n",
            "  f\"X has feature names, but {self.__class__.__name__} was fitted without\"\n"
          ]
        },
        {
          "output_type": "execute_result",
          "data": {
            "text/plain": [
              "array([62.24500084, 62.24500084, 62.24500084, 62.24500084, 62.24500084,\n",
              "       62.24500084, 62.24500084, 62.24500084, 62.24500084, 62.24500084,\n",
              "       62.24500084, 62.24500084, 62.24500084, 62.24500084, 62.24500084,\n",
              "       62.24500084, 62.24500084, 62.24500084, 62.24500084, 62.24500084,\n",
              "       62.24500084, 62.24500084, 62.24500084, 62.24500084, 62.24500084,\n",
              "       62.24500084, 62.24500084, 62.24500084, 62.24500084, 62.24500084,\n",
              "       62.24500084, 62.24500084, 62.24500084, 62.24500084, 62.24500084,\n",
              "       62.24500084, 62.24500084, 62.24500084, 62.24500084, 62.24500084,\n",
              "       62.24500084, 62.24500084, 62.24500084, 62.24500084, 62.24500084,\n",
              "       62.24500084, 62.24500084, 62.24500084, 62.24500084, 62.24500084,\n",
              "       62.24500084, 62.24500084, 62.24500084, 62.24500084, 62.24500084,\n",
              "       62.24500084, 62.24500084, 62.24500084, 62.24500084, 62.24500084,\n",
              "       62.24500084, 62.24500084, 62.24500084, 62.24500084, 62.24500084,\n",
              "       62.24500084, 62.24500084, 62.24500084, 62.24500084, 62.24500084,\n",
              "       62.24500084, 62.24500084, 62.24500084, 62.24500084, 62.24500084,\n",
              "       62.24500084, 62.24500084, 62.24500084, 62.24500084, 62.24500084,\n",
              "       62.24500084, 62.24500084, 62.24500084, 62.24500084, 62.24500084,\n",
              "       62.24500084, 62.24500084, 62.24500084, 62.24500084, 62.24500084,\n",
              "       62.24500084, 62.24500084, 62.24500084, 62.24500084, 62.24500084,\n",
              "       62.24500084, 62.24500084, 62.24500084, 62.24500084, 62.24500084,\n",
              "       62.24500084, 62.24500084, 62.24500084, 62.24500084, 62.24500084,\n",
              "       62.24500084, 62.24500084, 62.24500084, 62.24500084, 62.24500084,\n",
              "       62.24500084, 62.24500084, 62.24500084, 62.24500084, 62.24500084,\n",
              "       62.24500084, 62.24500084, 62.24500084, 62.24500084, 62.24500084,\n",
              "       62.24500084, 62.24500084, 62.24500084, 62.24500084, 62.24500084,\n",
              "       62.24500084, 62.24500084, 62.24500084, 62.24500084, 62.24500084,\n",
              "       62.24500084, 62.24500084, 62.24500084, 62.24500084, 62.24500084,\n",
              "       62.24500084, 62.24500084, 62.24500084, 62.24500084, 62.24500084,\n",
              "       62.24500084, 62.24500084, 62.24500084, 62.24500084, 62.24500084,\n",
              "       62.24500084, 62.24500084, 62.24500084])"
            ]
          },
          "metadata": {},
          "execution_count": 56
        }
      ]
    },
    {
      "cell_type": "code",
      "source": [
        "from sklearn import metrics\n",
        "rfr_score=metrics.r2_score(y_test,regressor.predict(X_test))\n",
        "rfr_score"
      ],
      "metadata": {
        "colab": {
          "base_uri": "https://localhost:8080/"
        },
        "id": "2CjlvSfmOCC-",
        "outputId": "9de77310-8394-4066-94db-34eda9f572eb"
      },
      "execution_count": null,
      "outputs": [
        {
          "output_type": "execute_result",
          "data": {
            "text/plain": [
              "0.9989930404879973"
            ]
          },
          "metadata": {},
          "execution_count": 57
        }
      ]
    },
    {
      "cell_type": "code",
      "source": [
        "model=['Multiple Regression','Decision Tree','ADA BOOST','XG BOOST','Random Forest']\n",
        "accuracy=[MLR_score,DT_score,AB_score,xgb_score,rfr_score]\n",
        "\n",
        "plt.figure(figsize=(9,7))\n",
        "c = ['red', 'black', 'blue', 'green','orange']\n",
        "plt.barh(model,accuracy,align='center',color=c)\n",
        "\n",
        "plt.xlabel(\"Accuracy\")\n",
        "plt.ylabel(\"Regression Models\")\n",
        "plt.title(\"Regression Model Scores\")"
      ],
      "metadata": {
        "colab": {
          "base_uri": "https://localhost:8080/",
          "height": 517
        },
        "id": "MtSFC6l5Xs3W",
        "outputId": "a23bdb31-da59-4d05-e1f0-853ebe425816"
      },
      "execution_count": null,
      "outputs": [
        {
          "output_type": "execute_result",
          "data": {
            "text/plain": [
              "Text(0.5, 1.0, 'Regression Model Scores')"
            ]
          },
          "metadata": {},
          "execution_count": 61
        },
        {
          "output_type": "display_data",
          "data": {
            "text/plain": [
              "<Figure size 648x504 with 1 Axes>"
            ],
            "image/png": "[encoded data removed]"
          },
          "metadata": {}
        }
      ]
    },
    {
      "cell_type": "code",
      "source": [
        "from mpl_toolkits.mplot3d import Axes3D\n",
        "\n",
        "model=['Multiple Regression','Decision Tree','ADA BOOST','XG BOOST','Random Forest']\n",
        "accuracy=[MLR_score,DT_score,AB_score,xgb_score,rfr_score]\n",
        "\n",
        "plt.figure(figsize=(9,7))\n",
        "\n",
        "\n",
        "plt.plot(model,accuracy)\n",
        "\n",
        "plt.xlabel(\"Accuracy\")\n",
        "plt.ylabel(\"Regression Models\")\n",
        "plt.title(\"Regression Model Scores\")\n",
        "plt.legend()\n",
        "plt.show()"
      ],
      "metadata": {
        "colab": {
          "base_uri": "https://localhost:8080/",
          "height": 517
        },
        "id": "k3uvKJ2AImSN",
        "outputId": "0bccc1f1-6837-4865-80e8-f0967ea743c4"
      },
      "execution_count": null,
      "outputs": [
        {
          "output_type": "stream",
          "name": "stderr",
          "text": [
            "No handles with labels found to put in legend.\n"
          ]
        },
        {
          "output_type": "display_data",
          "data": {
            "text/plain": [
              "<Figure size 648x504 with 1 Axes>"
            ],
            "image/png": "[encoded data removed]"
          },
          "metadata": {}
        }
      ]
    },
    {
      "cell_type": "code",
      "source": [
        "from prettytable import PrettyTable\n",
        "    \n",
        "x = PrettyTable()\n",
        "x.field_names = [\"Model\",\"R2 score\", \"RMSE\", \"mean_absolute_error\",\"mean_squared_error\",\"Feature_name\"]\n",
        "x.add_row([\"multiple_reg\", \"0.99\", '0.538','0.428', '0.289','Close'])\n",
        "x.add_row([\"decision_tree\", \"0.97\", '1.175','0.914', '1.380','Close'])\n",
        "x.add_row([\"ADA_boost\", \"0.89\", '11.42','10.381', '130.53','Close'])\n",
        "x.add_row([\"XGboost'\", \"0.74\", '12.33','11.851', '152.18','Close'])\n",
        "x.add_row([\"Random_forest\", \"0.99\", '0.670','0.401', '0.449','Close'])\n",
        "print(x)"
      ],
      "metadata": {
        "colab": {
          "base_uri": "https://localhost:8080/"
        },
        "id": "2z_90EYZmBvA",
        "outputId": "a4998be8-8a1e-4e6e-938c-6a6f41fb6496"
      },
      "execution_count": null,
      "outputs": [
        {
          "output_type": "stream",
          "name": "stdout",
          "text": [
            "+---------------+----------+-------+---------------------+--------------------+--------------+\n",
            "|     Model     | R2 score |  RMSE | mean_absolute_error | mean_squared_error | Feature_name |\n",
            "+---------------+----------+-------+---------------------+--------------------+--------------+\n",
            "|  multiple_reg |   0.99   | 0.538 |        0.428        |       0.289        |    Close     |\n",
            "| decision_tree |   0.97   | 1.175 |        0.914        |       1.380        |    Close     |\n",
            "|   ADA_boost   |   0.89   | 11.42 |        10.381       |       130.53       |    Close     |\n",
            "|    XGboost'   |   0.74   | 12.33 |        11.851       |       152.18       |    Close     |\n",
            "| Random_forest |   0.99   | 0.670 |        0.401        |       0.449        |    Close     |\n",
            "+---------------+----------+-------+---------------------+--------------------+--------------+\n"
          ]
        }
      ]
    }
  ]
}